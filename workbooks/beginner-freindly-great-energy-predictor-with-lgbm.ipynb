{
 "cells": [
  {
   "cell_type": "code",
   "execution_count": 1,
   "metadata": {
    "_cell_guid": "b1076dfc-b9ad-4769-8c92-a6c4dae69d19",
    "_uuid": "8f2839f25d086af736a60e9eeb907d3b93b6e0e5",
    "execution": {
     "iopub.execute_input": "2021-07-24T00:47:54.809217Z",
     "iopub.status.busy": "2021-07-24T00:47:54.808870Z",
     "iopub.status.idle": "2021-07-24T00:47:54.817252Z",
     "shell.execute_reply": "2021-07-24T00:47:54.815630Z",
     "shell.execute_reply.started": "2021-07-24T00:47:54.809188Z"
    }
   },
   "outputs": [],
   "source": [
    "# This Python 3 environment comes with many helpful analytics libraries installed\n",
    "# It is defined by the kaggle/python Docker image: https://github.com/kaggle/docker-python\n",
    "# For example, here's several helpful packages to load\n",
    "\n",
    "import numpy as np # linear algebra\n",
    "import pandas as pd # data processing, CSV file I/O (e.g. pd.read_csv)\n",
    "\n",
    "# Input data files are available in the read-only \"../input/\" directory\n",
    "# For example, running this (by clicking run or pressing Shift+Enter) will list all files under the input directory\n",
    "\n",
    "import os\n",
    "for dirname, _, filenames in os.walk('/kaggle/input'):\n",
    "    for filename in filenames:\n",
    "        print(os.path.join(dirname, filename))\n",
    "\n",
    "# You can write up to 5GB to the current directory (/kaggle/working/) that gets preserved as output when you create a version using \"Save & Run All\" \n",
    "# You can also write temporary files to /kaggle/temp/, but they won't be saved outside of the current session"
   ]
  },
  {
   "cell_type": "markdown",
   "metadata": {},
   "source": [
    "# Importing Libraries"
   ]
  },
  {
   "cell_type": "code",
   "execution_count": 2,
   "metadata": {
    "_cell_guid": "79c7e3d0-c299-4dcb-8224-4455121ee9b0",
    "_uuid": "d629ff2d2480ee46fbb7e2d37f6b5fab8052498a",
    "execution": {
     "iopub.execute_input": "2021-07-24T00:47:54.823496Z",
     "iopub.status.busy": "2021-07-24T00:47:54.823132Z",
     "iopub.status.idle": "2021-07-24T00:47:57.021913Z",
     "shell.execute_reply": "2021-07-24T00:47:57.020809Z",
     "shell.execute_reply.started": "2021-07-24T00:47:54.823464Z"
    }
   },
   "outputs": [
    {
     "data": {
      "text/html": [
       "        <script type=\"text/javascript\">\n",
       "        window.PlotlyConfig = {MathJaxConfig: 'local'};\n",
       "        if (window.MathJax) {MathJax.Hub.Config({SVG: {font: \"STIX-Web\"}});}\n",
       "        if (typeof require !== 'undefined') {\n",
       "        require.undef(\"plotly\");\n",
       "        requirejs.config({\n",
       "            paths: {\n",
       "                'plotly': ['https://cdn.plot.ly/plotly-latest.min']\n",
       "            }\n",
       "        });\n",
       "        require(['plotly'], function(Plotly) {\n",
       "            window._Plotly = Plotly;\n",
       "        });\n",
       "        }\n",
       "        </script>\n",
       "        "
      ]
     },
     "metadata": {},
     "output_type": "display_data"
    },
    {
     "data": {
      "text/html": [
       "        <script type=\"text/javascript\">\n",
       "        window.PlotlyConfig = {MathJaxConfig: 'local'};\n",
       "        if (window.MathJax) {MathJax.Hub.Config({SVG: {font: \"STIX-Web\"}});}\n",
       "        if (typeof require !== 'undefined') {\n",
       "        require.undef(\"plotly\");\n",
       "        requirejs.config({\n",
       "            paths: {\n",
       "                'plotly': ['https://cdn.plot.ly/plotly-latest.min']\n",
       "            }\n",
       "        });\n",
       "        require(['plotly'], function(Plotly) {\n",
       "            window._Plotly = Plotly;\n",
       "        });\n",
       "        }\n",
       "        </script>\n",
       "        "
      ]
     },
     "metadata": {},
     "output_type": "display_data"
    },
    {
     "data": {
      "text/html": [
       "        <script type=\"text/javascript\">\n",
       "        window.PlotlyConfig = {MathJaxConfig: 'local'};\n",
       "        if (window.MathJax) {MathJax.Hub.Config({SVG: {font: \"STIX-Web\"}});}\n",
       "        if (typeof require !== 'undefined') {\n",
       "        require.undef(\"plotly\");\n",
       "        requirejs.config({\n",
       "            paths: {\n",
       "                'plotly': ['https://cdn.plot.ly/plotly-latest.min']\n",
       "            }\n",
       "        });\n",
       "        require(['plotly'], function(Plotly) {\n",
       "            window._Plotly = Plotly;\n",
       "        });\n",
       "        }\n",
       "        </script>\n",
       "        "
      ]
     },
     "metadata": {},
     "output_type": "display_data"
    }
   ],
   "source": [
    "import numpy as np # linear algebra\n",
    "import pandas as pd # data processing, CSV file I/O (e.g. pd.read_csv)\n",
    "# Suppress warnings \n",
    "import warnings\n",
    "warnings.filterwarnings('ignore')\n",
    "import gc\n",
    "\n",
    "\n",
    "# matplotlib and seaborn for plotting\n",
    "import matplotlib.pyplot as plt\n",
    "%matplotlib inline\n",
    "\n",
    "import seaborn as sns\n",
    "import matplotlib.patches as patches\n",
    "from scipy import stats\n",
    "from scipy.stats import skew\n",
    "\n",
    "from plotly import tools, subplots\n",
    "import plotly.offline as py\n",
    "py.init_notebook_mode(connected=True)\n",
    "import plotly.graph_objs as go\n",
    "import plotly.express as px\n",
    "pd.set_option('max_columns', 100)\n",
    "\n",
    "py.init_notebook_mode(connected=True)\n",
    "from plotly.offline import init_notebook_mode, iplot\n",
    "init_notebook_mode(connected=True)\n",
    "import plotly.graph_objs as go\n",
    "\n",
    "import os,random, math, psutil, pickle\n",
    "from sklearn.preprocessing import LabelEncoder\n",
    "\n",
    "from sklearn.metrics import mean_squared_error\n",
    "import lightgbm as lgb\n",
    "from sklearn.model_selection import KFold, StratifiedKFold\n",
    "from tqdm import tqdm"
   ]
  },
  {
   "cell_type": "markdown",
   "metadata": {},
   "source": [
    "# Reading and understanding our data"
   ]
  },
  {
   "cell_type": "code",
   "execution_count": 3,
   "metadata": {
    "execution": {
     "iopub.execute_input": "2021-07-24T00:47:57.024560Z",
     "iopub.status.busy": "2021-07-24T00:47:57.024220Z",
     "iopub.status.idle": "2021-07-24T00:48:57.727958Z",
     "shell.execute_reply": "2021-07-24T00:48:57.726742Z",
     "shell.execute_reply.started": "2021-07-24T00:47:57.024514Z"
    }
   },
   "outputs": [
    {
     "data": {
      "text/html": [
       "<div>\n",
       "<style scoped>\n",
       "    .dataframe tbody tr th:only-of-type {\n",
       "        vertical-align: middle;\n",
       "    }\n",
       "\n",
       "    .dataframe tbody tr th {\n",
       "        vertical-align: top;\n",
       "    }\n",
       "\n",
       "    .dataframe thead th {\n",
       "        text-align: right;\n",
       "    }\n",
       "</style>\n",
       "<table border=\"1\" class=\"dataframe\">\n",
       "  <thead>\n",
       "    <tr style=\"text-align: right;\">\n",
       "      <th></th>\n",
       "      <th>building_id</th>\n",
       "      <th>meter</th>\n",
       "      <th>timestamp</th>\n",
       "      <th>meter_reading</th>\n",
       "    </tr>\n",
       "  </thead>\n",
       "  <tbody>\n",
       "    <tr>\n",
       "      <th>0</th>\n",
       "      <td>0</td>\n",
       "      <td>0</td>\n",
       "      <td>2016-01-01 00:00:00</td>\n",
       "      <td>0.000</td>\n",
       "    </tr>\n",
       "    <tr>\n",
       "      <th>1</th>\n",
       "      <td>1</td>\n",
       "      <td>0</td>\n",
       "      <td>2016-01-01 00:00:00</td>\n",
       "      <td>0.000</td>\n",
       "    </tr>\n",
       "    <tr>\n",
       "      <th>2</th>\n",
       "      <td>2</td>\n",
       "      <td>0</td>\n",
       "      <td>2016-01-01 00:00:00</td>\n",
       "      <td>0.000</td>\n",
       "    </tr>\n",
       "    <tr>\n",
       "      <th>3</th>\n",
       "      <td>3</td>\n",
       "      <td>0</td>\n",
       "      <td>2016-01-01 00:00:00</td>\n",
       "      <td>0.000</td>\n",
       "    </tr>\n",
       "    <tr>\n",
       "      <th>4</th>\n",
       "      <td>4</td>\n",
       "      <td>0</td>\n",
       "      <td>2016-01-01 00:00:00</td>\n",
       "      <td>0.000</td>\n",
       "    </tr>\n",
       "    <tr>\n",
       "      <th>...</th>\n",
       "      <td>...</td>\n",
       "      <td>...</td>\n",
       "      <td>...</td>\n",
       "      <td>...</td>\n",
       "    </tr>\n",
       "    <tr>\n",
       "      <th>20216095</th>\n",
       "      <td>1444</td>\n",
       "      <td>0</td>\n",
       "      <td>2016-12-31 23:00:00</td>\n",
       "      <td>8.750</td>\n",
       "    </tr>\n",
       "    <tr>\n",
       "      <th>20216096</th>\n",
       "      <td>1445</td>\n",
       "      <td>0</td>\n",
       "      <td>2016-12-31 23:00:00</td>\n",
       "      <td>4.825</td>\n",
       "    </tr>\n",
       "    <tr>\n",
       "      <th>20216097</th>\n",
       "      <td>1446</td>\n",
       "      <td>0</td>\n",
       "      <td>2016-12-31 23:00:00</td>\n",
       "      <td>0.000</td>\n",
       "    </tr>\n",
       "    <tr>\n",
       "      <th>20216098</th>\n",
       "      <td>1447</td>\n",
       "      <td>0</td>\n",
       "      <td>2016-12-31 23:00:00</td>\n",
       "      <td>159.575</td>\n",
       "    </tr>\n",
       "    <tr>\n",
       "      <th>20216099</th>\n",
       "      <td>1448</td>\n",
       "      <td>0</td>\n",
       "      <td>2016-12-31 23:00:00</td>\n",
       "      <td>2.850</td>\n",
       "    </tr>\n",
       "  </tbody>\n",
       "</table>\n",
       "<p>20216100 rows × 4 columns</p>\n",
       "</div>"
      ],
      "text/plain": [
       "          building_id  meter            timestamp  meter_reading\n",
       "0                   0      0  2016-01-01 00:00:00          0.000\n",
       "1                   1      0  2016-01-01 00:00:00          0.000\n",
       "2                   2      0  2016-01-01 00:00:00          0.000\n",
       "3                   3      0  2016-01-01 00:00:00          0.000\n",
       "4                   4      0  2016-01-01 00:00:00          0.000\n",
       "...               ...    ...                  ...            ...\n",
       "20216095         1444      0  2016-12-31 23:00:00          8.750\n",
       "20216096         1445      0  2016-12-31 23:00:00          4.825\n",
       "20216097         1446      0  2016-12-31 23:00:00          0.000\n",
       "20216098         1447      0  2016-12-31 23:00:00        159.575\n",
       "20216099         1448      0  2016-12-31 23:00:00          2.850\n",
       "\n",
       "[20216100 rows x 4 columns]"
      ]
     },
     "execution_count": 3,
     "metadata": {},
     "output_type": "execute_result"
    }
   ],
   "source": [
    "building_meta_df = pd.read_csv('energyCSV/building_metadata.csv')\n",
    "test_df = pd.read_csv('energyCSV/test.csv')\n",
    "train_df = pd.read_csv('energyCSV/train.csv')\n",
    "weather_test_df = pd.read_csv('energyCSV/weather_test.csv')\n",
    "weather_train_df = pd.read_csv('energyCSV/weather_train.csv')\n",
    "sample_submission = pd.read_csv('energyCSV/sample_submission.csv')\n",
    "\n",
    "train_df"
   ]
  },
  {
   "cell_type": "code",
   "execution_count": 4,
   "metadata": {
    "execution": {
     "iopub.execute_input": "2021-07-24T00:48:57.729690Z",
     "iopub.status.busy": "2021-07-24T00:48:57.729389Z",
     "iopub.status.idle": "2021-07-24T00:48:57.737733Z",
     "shell.execute_reply": "2021-07-24T00:48:57.736511Z",
     "shell.execute_reply.started": "2021-07-24T00:48:57.729662Z"
    }
   },
   "outputs": [
    {
     "name": "stdout",
     "output_type": "stream",
     "text": [
      "Size of train_df data (20216100, 4)\n",
      "Size of weather_train_df data (139773, 9)\n",
      "Size of weather_test_df data (277243, 9)\n",
      "Size of building_meta_df data (1449, 6)\n"
     ]
    }
   ],
   "source": [
    "print('Size of train_df data', train_df.shape)\n",
    "print('Size of weather_train_df data', weather_train_df.shape)\n",
    "print('Size of weather_test_df data', weather_test_df.shape)\n",
    "print('Size of building_meta_df data', building_meta_df.shape)"
   ]
  },
  {
   "cell_type": "code",
   "execution_count": 5,
   "metadata": {
    "execution": {
     "iopub.execute_input": "2021-07-24T00:48:57.739965Z",
     "iopub.status.busy": "2021-07-24T00:48:57.739504Z",
     "iopub.status.idle": "2021-07-24T00:48:57.760038Z",
     "shell.execute_reply": "2021-07-24T00:48:57.758830Z",
     "shell.execute_reply.started": "2021-07-24T00:48:57.739918Z"
    }
   },
   "outputs": [
    {
     "name": "stdout",
     "output_type": "stream",
     "text": [
      "<class 'pandas.core.frame.DataFrame'>\n",
      "RangeIndex: 20216100 entries, 0 to 20216099\n",
      "Data columns (total 4 columns):\n",
      " #   Column         Dtype  \n",
      "---  ------         -----  \n",
      " 0   building_id    int64  \n",
      " 1   meter          int64  \n",
      " 2   timestamp      object \n",
      " 3   meter_reading  float64\n",
      "dtypes: float64(1), int64(2), object(1)\n",
      "memory usage: 616.9+ MB\n"
     ]
    }
   ],
   "source": [
    "train_df.info()"
   ]
  },
  {
   "cell_type": "markdown",
   "metadata": {},
   "source": [
    "# Reduce The Memory For Faster Processing"
   ]
  },
  {
   "cell_type": "code",
   "execution_count": 6,
   "metadata": {
    "execution": {
     "iopub.execute_input": "2021-07-24T00:48:57.764116Z",
     "iopub.status.busy": "2021-07-24T00:48:57.763773Z",
     "iopub.status.idle": "2021-07-24T00:48:57.779436Z",
     "shell.execute_reply": "2021-07-24T00:48:57.778314Z",
     "shell.execute_reply.started": "2021-07-24T00:48:57.764084Z"
    }
   },
   "outputs": [],
   "source": [
    "## Function to reduce the DF size\n",
    "def reduce_mem_usage(df, verbose=True):\n",
    "    numerics = ['int16', 'int32', 'int64', 'float16', 'float32', 'float64']\n",
    "    start_mem = df.memory_usage().sum() / 1024**2    \n",
    "    for col in df.columns:\n",
    "        col_type = df[col].dtypes\n",
    "        if col_type in numerics:\n",
    "            c_min = df[col].min()\n",
    "            c_max = df[col].max()\n",
    "            if str(col_type)[:3] == 'int':\n",
    "                if c_min > np.iinfo(np.int8).min and c_max < np.iinfo(np.int8).max:\n",
    "                    df[col] = df[col].astype(np.int8)\n",
    "                elif c_min > np.iinfo(np.int16).min and c_max < np.iinfo(np.int16).max:\n",
    "                    df[col] = df[col].astype(np.int16)\n",
    "                elif c_min > np.iinfo(np.int32).min and c_max < np.iinfo(np.int32).max:\n",
    "                    df[col] = df[col].astype(np.int32)\n",
    "                elif c_min > np.iinfo(np.int64).min and c_max < np.iinfo(np.int64).max:\n",
    "                    df[col] = df[col].astype(np.int64)  \n",
    "            else:\n",
    "                if c_min > np.finfo(np.float16).min and c_max < np.finfo(np.float16).max:\n",
    "                    df[col] = df[col].astype(np.float16)\n",
    "                elif c_min > np.finfo(np.float32).min and c_max < np.finfo(np.float32).max:\n",
    "                    df[col] = df[col].astype(np.float32)\n",
    "                else:\n",
    "                    df[col] = df[col].astype(np.float64)    \n",
    "    end_mem = df.memory_usage().sum() / 1024**2\n",
    "    if verbose: print('Mem. usage decreased to {:5.2f} Mb ({:.1f}% reduction)'.format(end_mem, 100 * (start_mem - end_mem) / start_mem))\n",
    "    return df"
   ]
  },
  {
   "cell_type": "code",
   "execution_count": 7,
   "metadata": {
    "execution": {
     "iopub.execute_input": "2021-07-24T00:48:57.784113Z",
     "iopub.status.busy": "2021-07-24T00:48:57.783754Z",
     "iopub.status.idle": "2021-07-24T00:48:59.132319Z",
     "shell.execute_reply": "2021-07-24T00:48:59.131228Z",
     "shell.execute_reply.started": "2021-07-24T00:48:57.784083Z"
    }
   },
   "outputs": [
    {
     "name": "stdout",
     "output_type": "stream",
     "text": [
      "Mem. usage decreased to 289.19 Mb (53.1% reduction)\n",
      "Mem. usage decreased to 596.49 Mb (53.1% reduction)\n",
      "Mem. usage decreased to  3.07 Mb (68.1% reduction)\n",
      "Mem. usage decreased to  6.08 Mb (68.1% reduction)\n",
      "Mem. usage decreased to  0.03 Mb (60.3% reduction)\n"
     ]
    }
   ],
   "source": [
    "train_df = reduce_mem_usage(train_df)\n",
    "test_df = reduce_mem_usage(test_df)\n",
    "\n",
    "weather_train_df = reduce_mem_usage(weather_train_df)\n",
    "weather_test_df = reduce_mem_usage(weather_test_df)\n",
    "building_meta_df = reduce_mem_usage(building_meta_df)"
   ]
  },
  {
   "cell_type": "code",
   "execution_count": 8,
   "metadata": {
    "execution": {
     "iopub.execute_input": "2021-07-24T00:48:59.135575Z",
     "iopub.status.busy": "2021-07-24T00:48:59.135274Z",
     "iopub.status.idle": "2021-07-24T00:48:59.149248Z",
     "shell.execute_reply": "2021-07-24T00:48:59.147562Z",
     "shell.execute_reply.started": "2021-07-24T00:48:59.135548Z"
    }
   },
   "outputs": [
    {
     "name": "stdout",
     "output_type": "stream",
     "text": [
      "<class 'pandas.core.frame.DataFrame'>\n",
      "RangeIndex: 20216100 entries, 0 to 20216099\n",
      "Data columns (total 4 columns):\n",
      " #   Column         Dtype  \n",
      "---  ------         -----  \n",
      " 0   building_id    int16  \n",
      " 1   meter          int8   \n",
      " 2   timestamp      object \n",
      " 3   meter_reading  float32\n",
      "dtypes: float32(1), int16(1), int8(1), object(1)\n",
      "memory usage: 289.2+ MB\n"
     ]
    }
   ],
   "source": [
    "train_df.info()"
   ]
  },
  {
   "cell_type": "code",
   "execution_count": 9,
   "metadata": {
    "execution": {
     "iopub.execute_input": "2021-07-24T00:48:59.151495Z",
     "iopub.status.busy": "2021-07-24T00:48:59.151012Z",
     "iopub.status.idle": "2021-07-24T00:48:59.171620Z",
     "shell.execute_reply": "2021-07-24T00:48:59.170372Z",
     "shell.execute_reply.started": "2021-07-24T00:48:59.151446Z"
    }
   },
   "outputs": [
    {
     "data": {
      "text/html": [
       "<div>\n",
       "<style scoped>\n",
       "    .dataframe tbody tr th:only-of-type {\n",
       "        vertical-align: middle;\n",
       "    }\n",
       "\n",
       "    .dataframe tbody tr th {\n",
       "        vertical-align: top;\n",
       "    }\n",
       "\n",
       "    .dataframe thead th {\n",
       "        text-align: right;\n",
       "    }\n",
       "</style>\n",
       "<table border=\"1\" class=\"dataframe\">\n",
       "  <thead>\n",
       "    <tr style=\"text-align: right;\">\n",
       "      <th></th>\n",
       "      <th>site_id</th>\n",
       "      <th>building_id</th>\n",
       "      <th>primary_use</th>\n",
       "      <th>square_feet</th>\n",
       "      <th>year_built</th>\n",
       "      <th>floor_count</th>\n",
       "    </tr>\n",
       "  </thead>\n",
       "  <tbody>\n",
       "    <tr>\n",
       "      <th>0</th>\n",
       "      <td>0</td>\n",
       "      <td>0</td>\n",
       "      <td>Education</td>\n",
       "      <td>7432</td>\n",
       "      <td>2008.0</td>\n",
       "      <td>NaN</td>\n",
       "    </tr>\n",
       "    <tr>\n",
       "      <th>1</th>\n",
       "      <td>0</td>\n",
       "      <td>1</td>\n",
       "      <td>Education</td>\n",
       "      <td>2720</td>\n",
       "      <td>2004.0</td>\n",
       "      <td>NaN</td>\n",
       "    </tr>\n",
       "    <tr>\n",
       "      <th>2</th>\n",
       "      <td>0</td>\n",
       "      <td>2</td>\n",
       "      <td>Education</td>\n",
       "      <td>5376</td>\n",
       "      <td>1991.0</td>\n",
       "      <td>NaN</td>\n",
       "    </tr>\n",
       "    <tr>\n",
       "      <th>3</th>\n",
       "      <td>0</td>\n",
       "      <td>3</td>\n",
       "      <td>Education</td>\n",
       "      <td>23685</td>\n",
       "      <td>2002.0</td>\n",
       "      <td>NaN</td>\n",
       "    </tr>\n",
       "    <tr>\n",
       "      <th>4</th>\n",
       "      <td>0</td>\n",
       "      <td>4</td>\n",
       "      <td>Education</td>\n",
       "      <td>116607</td>\n",
       "      <td>1975.0</td>\n",
       "      <td>NaN</td>\n",
       "    </tr>\n",
       "    <tr>\n",
       "      <th>...</th>\n",
       "      <td>...</td>\n",
       "      <td>...</td>\n",
       "      <td>...</td>\n",
       "      <td>...</td>\n",
       "      <td>...</td>\n",
       "      <td>...</td>\n",
       "    </tr>\n",
       "    <tr>\n",
       "      <th>1444</th>\n",
       "      <td>15</td>\n",
       "      <td>1444</td>\n",
       "      <td>Entertainment/public assembly</td>\n",
       "      <td>19619</td>\n",
       "      <td>1914.0</td>\n",
       "      <td>NaN</td>\n",
       "    </tr>\n",
       "    <tr>\n",
       "      <th>1445</th>\n",
       "      <td>15</td>\n",
       "      <td>1445</td>\n",
       "      <td>Education</td>\n",
       "      <td>4298</td>\n",
       "      <td>NaN</td>\n",
       "      <td>NaN</td>\n",
       "    </tr>\n",
       "    <tr>\n",
       "      <th>1446</th>\n",
       "      <td>15</td>\n",
       "      <td>1446</td>\n",
       "      <td>Entertainment/public assembly</td>\n",
       "      <td>11265</td>\n",
       "      <td>1997.0</td>\n",
       "      <td>NaN</td>\n",
       "    </tr>\n",
       "    <tr>\n",
       "      <th>1447</th>\n",
       "      <td>15</td>\n",
       "      <td>1447</td>\n",
       "      <td>Lodging/residential</td>\n",
       "      <td>29775</td>\n",
       "      <td>2001.0</td>\n",
       "      <td>NaN</td>\n",
       "    </tr>\n",
       "    <tr>\n",
       "      <th>1448</th>\n",
       "      <td>15</td>\n",
       "      <td>1448</td>\n",
       "      <td>Office</td>\n",
       "      <td>92271</td>\n",
       "      <td>2001.0</td>\n",
       "      <td>NaN</td>\n",
       "    </tr>\n",
       "  </tbody>\n",
       "</table>\n",
       "<p>1449 rows × 6 columns</p>\n",
       "</div>"
      ],
      "text/plain": [
       "      site_id  building_id                    primary_use  square_feet  \\\n",
       "0           0            0                      Education         7432   \n",
       "1           0            1                      Education         2720   \n",
       "2           0            2                      Education         5376   \n",
       "3           0            3                      Education        23685   \n",
       "4           0            4                      Education       116607   \n",
       "...       ...          ...                            ...          ...   \n",
       "1444       15         1444  Entertainment/public assembly        19619   \n",
       "1445       15         1445                      Education         4298   \n",
       "1446       15         1446  Entertainment/public assembly        11265   \n",
       "1447       15         1447            Lodging/residential        29775   \n",
       "1448       15         1448                         Office        92271   \n",
       "\n",
       "      year_built  floor_count  \n",
       "0         2008.0          NaN  \n",
       "1         2004.0          NaN  \n",
       "2         1991.0          NaN  \n",
       "3         2002.0          NaN  \n",
       "4         1975.0          NaN  \n",
       "...          ...          ...  \n",
       "1444      1914.0          NaN  \n",
       "1445         NaN          NaN  \n",
       "1446      1997.0          NaN  \n",
       "1447      2001.0          NaN  \n",
       "1448      2001.0          NaN  \n",
       "\n",
       "[1449 rows x 6 columns]"
      ]
     },
     "execution_count": 9,
     "metadata": {},
     "output_type": "execute_result"
    }
   ],
   "source": [
    "building_meta_df"
   ]
  },
  {
   "cell_type": "markdown",
   "metadata": {},
   "source": [
    "\n",
    "\n",
    "Features that are likely predictive:\n",
    "\n",
    "Buildings\n",
    "\n",
    "    primary_use\n",
    "    square_feet\n",
    "    year_built\n",
    "    floor_count (may be too sparse to use)\n",
    "\n",
    "Weather\n",
    "\n",
    "    time of day\n",
    "    holiday\n",
    "    weekend\n",
    "    cloud_coverage + lags\n",
    "    dew_temperature + lags\n",
    "    precip_depth + lags\n",
    "    sea_level_pressure + lags\n",
    "    wind_direction + lags\n",
    "    wind_speed + lags\n",
    "\n",
    "Train\n",
    "\n",
    "    max, mean, min, std of the specific building historically\n",
    "    number of meters\n",
    "    number of buildings at a siteid\n",
    "\n"
   ]
  },
  {
   "cell_type": "markdown",
   "metadata": {},
   "source": [
    "**Converting \"timestamps\" To datetime And String To Category Datatype**"
   ]
  },
  {
   "cell_type": "markdown",
   "metadata": {},
   "source": [
    "*Categoricals are a pandas data type corresponding to categorical variables in statistics. A categorical variable takes on a limited, and usually fixed, number of possible values*"
   ]
  },
  {
   "cell_type": "code",
   "execution_count": 10,
   "metadata": {
    "execution": {
     "iopub.execute_input": "2021-07-24T00:48:59.173602Z",
     "iopub.status.busy": "2021-07-24T00:48:59.173158Z",
     "iopub.status.idle": "2021-07-24T00:49:09.075443Z",
     "shell.execute_reply": "2021-07-24T00:49:09.074273Z",
     "shell.execute_reply.started": "2021-07-24T00:48:59.173553Z"
    }
   },
   "outputs": [],
   "source": [
    "train_df['timestamp'] = pd.to_datetime(train_df['timestamp'])\n",
    "test_df['timestamp'] = pd.to_datetime(test_df['timestamp'])\n",
    "\n",
    "weather_train_df['timestamp'] = pd.to_datetime(weather_train_df['timestamp'])\n",
    "weather_test_df['timestamp'] = pd.to_datetime(weather_test_df['timestamp'])\n",
    "\n",
    "#building_meta_df['primary_use'] = building_meta_df['primary_use'].astype('category')"
   ]
  },
  {
   "cell_type": "code",
   "execution_count": 11,
   "metadata": {
    "execution": {
     "iopub.execute_input": "2021-07-24T00:49:09.077343Z",
     "iopub.status.busy": "2021-07-24T00:49:09.076893Z",
     "iopub.status.idle": "2021-07-24T00:49:33.764476Z",
     "shell.execute_reply": "2021-07-24T00:49:33.763510Z",
     "shell.execute_reply.started": "2021-07-24T00:49:09.077302Z"
    }
   },
   "outputs": [],
   "source": [
    "train_df[\"hour\"] = train_df[\"timestamp\"].dt.hour\n",
    "train_df[\"day\"] = train_df[\"timestamp\"].dt.day\n",
    "train_df[\"weekend\"] = train_df[\"timestamp\"].dt.weekday\n",
    "train_df[\"month\"] = train_df[\"timestamp\"].dt.month\n",
    "\n",
    "test_df[\"hour\"] = test_df[\"timestamp\"].dt.hour\n",
    "test_df[\"day\"] = test_df[\"timestamp\"].dt.day\n",
    "test_df[\"weekend\"] = test_df[\"timestamp\"].dt.weekday\n",
    "test_df[\"month\"] = test_df[\"timestamp\"].dt.month"
   ]
  },
  {
   "cell_type": "markdown",
   "metadata": {},
   "source": [
    "# Merging the features of building_meta_df with train_df and test_df"
   ]
  },
  {
   "cell_type": "code",
   "execution_count": 12,
   "metadata": {
    "execution": {
     "iopub.execute_input": "2021-07-24T00:49:33.766525Z",
     "iopub.status.busy": "2021-07-24T00:49:33.766207Z",
     "iopub.status.idle": "2021-07-24T00:49:47.376900Z",
     "shell.execute_reply": "2021-07-24T00:49:47.375740Z",
     "shell.execute_reply.started": "2021-07-24T00:49:33.766494Z"
    }
   },
   "outputs": [],
   "source": [
    "temp_df = train_df[['building_id']]\n",
    "temp_df = temp_df.merge(building_meta_df, on=['building_id'], how='left')\n",
    "del temp_df['building_id']\n",
    "train_df = pd.concat([train_df, temp_df], axis=1)\n",
    "\n",
    "temp_df = test_df[['building_id']]\n",
    "temp_df = temp_df.merge(building_meta_df, on=['building_id'], how='left')\n",
    "del temp_df['building_id']\n",
    "test_df = pd.concat([test_df, temp_df], axis=1)\n",
    "\n",
    "del temp_df, building_meta_df"
   ]
  },
  {
   "cell_type": "markdown",
   "metadata": {},
   "source": [
    "# Merging the features of weather_df with train_df and test_df"
   ]
  },
  {
   "cell_type": "code",
   "execution_count": 13,
   "metadata": {
    "execution": {
     "iopub.execute_input": "2021-07-24T00:49:47.378794Z",
     "iopub.status.busy": "2021-07-24T00:49:47.378456Z",
     "iopub.status.idle": "2021-07-24T00:49:59.324083Z",
     "shell.execute_reply": "2021-07-24T00:49:59.323012Z",
     "shell.execute_reply.started": "2021-07-24T00:49:47.378761Z"
    }
   },
   "outputs": [],
   "source": [
    "temp_df = train_df[['site_id','timestamp']]\n",
    "temp_df = temp_df.merge(weather_train_df, on=['site_id','timestamp'], how='left')\n",
    "\n",
    "del temp_df['site_id'], temp_df['timestamp']\n",
    "train_df = pd.concat([train_df, temp_df], axis=1)\n",
    "\n",
    "temp_df = test_df[['site_id','timestamp']]\n",
    "temp_df = temp_df.merge(weather_test_df, on=['site_id','timestamp'], how='left')\n",
    "\n",
    "del temp_df['site_id'], temp_df['timestamp']\n",
    "test_df = pd.concat([test_df, temp_df], axis=1)\n",
    "\n",
    "del temp_df, weather_train_df, weather_test_df"
   ]
  },
  {
   "cell_type": "markdown",
   "metadata": {},
   "source": [
    "**Storing train_df and test_df using to_pickle**\n",
    "\n",
    "*to_pickle(): A good solution for keeping that dataframe constantly available in between runs so I don't have to spend all that time waiting for the script to run*\n",
    "\n",
    "*gc.collect() : It performs a blocking garbage collection of all generations. All objects, regardless of how long they have been in memory, are considered for collection; however, objects that are referenced in managed code are not collected. Use this method to force the system to try to reclaim the maximum amount of available memory.*"
   ]
  },
  {
   "cell_type": "code",
   "execution_count": 14,
   "metadata": {
    "execution": {
     "iopub.execute_input": "2021-07-24T00:49:59.326004Z",
     "iopub.status.busy": "2021-07-24T00:49:59.325516Z",
     "iopub.status.idle": "2021-07-24T00:50:21.237376Z",
     "shell.execute_reply": "2021-07-24T00:50:21.236217Z",
     "shell.execute_reply.started": "2021-07-24T00:49:59.325957Z"
    }
   },
   "outputs": [
    {
     "data": {
      "text/plain": [
       "20"
      ]
     },
     "execution_count": 14,
     "metadata": {},
     "output_type": "execute_result"
    }
   ],
   "source": [
    "train_df.to_pickle('train_df.pkl')\n",
    "test_df.to_pickle('test_df.pkl')\n",
    "   \n",
    "del train_df, test_df\n",
    "gc.collect()"
   ]
  },
  {
   "cell_type": "code",
   "execution_count": 15,
   "metadata": {
    "execution": {
     "iopub.execute_input": "2021-07-24T00:50:21.238837Z",
     "iopub.status.busy": "2021-07-24T00:50:21.238571Z",
     "iopub.status.idle": "2021-07-24T00:50:50.972139Z",
     "shell.execute_reply": "2021-07-24T00:50:50.971201Z",
     "shell.execute_reply.started": "2021-07-24T00:50:21.238810Z"
    }
   },
   "outputs": [
    {
     "data": {
      "text/html": [
       "<div>\n",
       "<style scoped>\n",
       "    .dataframe tbody tr th:only-of-type {\n",
       "        vertical-align: middle;\n",
       "    }\n",
       "\n",
       "    .dataframe tbody tr th {\n",
       "        vertical-align: top;\n",
       "    }\n",
       "\n",
       "    .dataframe thead th {\n",
       "        text-align: right;\n",
       "    }\n",
       "</style>\n",
       "<table border=\"1\" class=\"dataframe\">\n",
       "  <thead>\n",
       "    <tr style=\"text-align: right;\">\n",
       "      <th></th>\n",
       "      <th>building_id</th>\n",
       "      <th>meter</th>\n",
       "      <th>timestamp</th>\n",
       "      <th>meter_reading</th>\n",
       "      <th>hour</th>\n",
       "      <th>day</th>\n",
       "      <th>weekend</th>\n",
       "      <th>month</th>\n",
       "      <th>site_id</th>\n",
       "      <th>primary_use</th>\n",
       "      <th>square_feet</th>\n",
       "      <th>year_built</th>\n",
       "      <th>floor_count</th>\n",
       "      <th>air_temperature</th>\n",
       "      <th>cloud_coverage</th>\n",
       "      <th>dew_temperature</th>\n",
       "      <th>precip_depth_1_hr</th>\n",
       "      <th>sea_level_pressure</th>\n",
       "      <th>wind_direction</th>\n",
       "      <th>wind_speed</th>\n",
       "    </tr>\n",
       "  </thead>\n",
       "  <tbody>\n",
       "    <tr>\n",
       "      <th>0</th>\n",
       "      <td>0</td>\n",
       "      <td>0</td>\n",
       "      <td>2016-01-01 00:00:00</td>\n",
       "      <td>0.000000</td>\n",
       "      <td>0</td>\n",
       "      <td>1</td>\n",
       "      <td>4</td>\n",
       "      <td>1</td>\n",
       "      <td>0</td>\n",
       "      <td>Education</td>\n",
       "      <td>7432</td>\n",
       "      <td>2008.0</td>\n",
       "      <td>NaN</td>\n",
       "      <td>25.000000</td>\n",
       "      <td>6.0</td>\n",
       "      <td>20.000000</td>\n",
       "      <td>NaN</td>\n",
       "      <td>1019.5</td>\n",
       "      <td>0.0</td>\n",
       "      <td>0.000000</td>\n",
       "    </tr>\n",
       "    <tr>\n",
       "      <th>1</th>\n",
       "      <td>1</td>\n",
       "      <td>0</td>\n",
       "      <td>2016-01-01 00:00:00</td>\n",
       "      <td>0.000000</td>\n",
       "      <td>0</td>\n",
       "      <td>1</td>\n",
       "      <td>4</td>\n",
       "      <td>1</td>\n",
       "      <td>0</td>\n",
       "      <td>Education</td>\n",
       "      <td>2720</td>\n",
       "      <td>2004.0</td>\n",
       "      <td>NaN</td>\n",
       "      <td>25.000000</td>\n",
       "      <td>6.0</td>\n",
       "      <td>20.000000</td>\n",
       "      <td>NaN</td>\n",
       "      <td>1019.5</td>\n",
       "      <td>0.0</td>\n",
       "      <td>0.000000</td>\n",
       "    </tr>\n",
       "    <tr>\n",
       "      <th>2</th>\n",
       "      <td>2</td>\n",
       "      <td>0</td>\n",
       "      <td>2016-01-01 00:00:00</td>\n",
       "      <td>0.000000</td>\n",
       "      <td>0</td>\n",
       "      <td>1</td>\n",
       "      <td>4</td>\n",
       "      <td>1</td>\n",
       "      <td>0</td>\n",
       "      <td>Education</td>\n",
       "      <td>5376</td>\n",
       "      <td>1991.0</td>\n",
       "      <td>NaN</td>\n",
       "      <td>25.000000</td>\n",
       "      <td>6.0</td>\n",
       "      <td>20.000000</td>\n",
       "      <td>NaN</td>\n",
       "      <td>1019.5</td>\n",
       "      <td>0.0</td>\n",
       "      <td>0.000000</td>\n",
       "    </tr>\n",
       "    <tr>\n",
       "      <th>3</th>\n",
       "      <td>3</td>\n",
       "      <td>0</td>\n",
       "      <td>2016-01-01 00:00:00</td>\n",
       "      <td>0.000000</td>\n",
       "      <td>0</td>\n",
       "      <td>1</td>\n",
       "      <td>4</td>\n",
       "      <td>1</td>\n",
       "      <td>0</td>\n",
       "      <td>Education</td>\n",
       "      <td>23685</td>\n",
       "      <td>2002.0</td>\n",
       "      <td>NaN</td>\n",
       "      <td>25.000000</td>\n",
       "      <td>6.0</td>\n",
       "      <td>20.000000</td>\n",
       "      <td>NaN</td>\n",
       "      <td>1019.5</td>\n",
       "      <td>0.0</td>\n",
       "      <td>0.000000</td>\n",
       "    </tr>\n",
       "    <tr>\n",
       "      <th>4</th>\n",
       "      <td>4</td>\n",
       "      <td>0</td>\n",
       "      <td>2016-01-01 00:00:00</td>\n",
       "      <td>0.000000</td>\n",
       "      <td>0</td>\n",
       "      <td>1</td>\n",
       "      <td>4</td>\n",
       "      <td>1</td>\n",
       "      <td>0</td>\n",
       "      <td>Education</td>\n",
       "      <td>116607</td>\n",
       "      <td>1975.0</td>\n",
       "      <td>NaN</td>\n",
       "      <td>25.000000</td>\n",
       "      <td>6.0</td>\n",
       "      <td>20.000000</td>\n",
       "      <td>NaN</td>\n",
       "      <td>1019.5</td>\n",
       "      <td>0.0</td>\n",
       "      <td>0.000000</td>\n",
       "    </tr>\n",
       "    <tr>\n",
       "      <th>...</th>\n",
       "      <td>...</td>\n",
       "      <td>...</td>\n",
       "      <td>...</td>\n",
       "      <td>...</td>\n",
       "      <td>...</td>\n",
       "      <td>...</td>\n",
       "      <td>...</td>\n",
       "      <td>...</td>\n",
       "      <td>...</td>\n",
       "      <td>...</td>\n",
       "      <td>...</td>\n",
       "      <td>...</td>\n",
       "      <td>...</td>\n",
       "      <td>...</td>\n",
       "      <td>...</td>\n",
       "      <td>...</td>\n",
       "      <td>...</td>\n",
       "      <td>...</td>\n",
       "      <td>...</td>\n",
       "      <td>...</td>\n",
       "    </tr>\n",
       "    <tr>\n",
       "      <th>20216095</th>\n",
       "      <td>1444</td>\n",
       "      <td>0</td>\n",
       "      <td>2016-12-31 23:00:00</td>\n",
       "      <td>8.750000</td>\n",
       "      <td>23</td>\n",
       "      <td>31</td>\n",
       "      <td>5</td>\n",
       "      <td>12</td>\n",
       "      <td>15</td>\n",
       "      <td>Entertainment/public assembly</td>\n",
       "      <td>19619</td>\n",
       "      <td>1914.0</td>\n",
       "      <td>NaN</td>\n",
       "      <td>1.700195</td>\n",
       "      <td>NaN</td>\n",
       "      <td>-5.601562</td>\n",
       "      <td>-1.0</td>\n",
       "      <td>1008.5</td>\n",
       "      <td>180.0</td>\n",
       "      <td>8.796875</td>\n",
       "    </tr>\n",
       "    <tr>\n",
       "      <th>20216096</th>\n",
       "      <td>1445</td>\n",
       "      <td>0</td>\n",
       "      <td>2016-12-31 23:00:00</td>\n",
       "      <td>4.825000</td>\n",
       "      <td>23</td>\n",
       "      <td>31</td>\n",
       "      <td>5</td>\n",
       "      <td>12</td>\n",
       "      <td>15</td>\n",
       "      <td>Education</td>\n",
       "      <td>4298</td>\n",
       "      <td>NaN</td>\n",
       "      <td>NaN</td>\n",
       "      <td>1.700195</td>\n",
       "      <td>NaN</td>\n",
       "      <td>-5.601562</td>\n",
       "      <td>-1.0</td>\n",
       "      <td>1008.5</td>\n",
       "      <td>180.0</td>\n",
       "      <td>8.796875</td>\n",
       "    </tr>\n",
       "    <tr>\n",
       "      <th>20216097</th>\n",
       "      <td>1446</td>\n",
       "      <td>0</td>\n",
       "      <td>2016-12-31 23:00:00</td>\n",
       "      <td>0.000000</td>\n",
       "      <td>23</td>\n",
       "      <td>31</td>\n",
       "      <td>5</td>\n",
       "      <td>12</td>\n",
       "      <td>15</td>\n",
       "      <td>Entertainment/public assembly</td>\n",
       "      <td>11265</td>\n",
       "      <td>1997.0</td>\n",
       "      <td>NaN</td>\n",
       "      <td>1.700195</td>\n",
       "      <td>NaN</td>\n",
       "      <td>-5.601562</td>\n",
       "      <td>-1.0</td>\n",
       "      <td>1008.5</td>\n",
       "      <td>180.0</td>\n",
       "      <td>8.796875</td>\n",
       "    </tr>\n",
       "    <tr>\n",
       "      <th>20216098</th>\n",
       "      <td>1447</td>\n",
       "      <td>0</td>\n",
       "      <td>2016-12-31 23:00:00</td>\n",
       "      <td>159.574997</td>\n",
       "      <td>23</td>\n",
       "      <td>31</td>\n",
       "      <td>5</td>\n",
       "      <td>12</td>\n",
       "      <td>15</td>\n",
       "      <td>Lodging/residential</td>\n",
       "      <td>29775</td>\n",
       "      <td>2001.0</td>\n",
       "      <td>NaN</td>\n",
       "      <td>1.700195</td>\n",
       "      <td>NaN</td>\n",
       "      <td>-5.601562</td>\n",
       "      <td>-1.0</td>\n",
       "      <td>1008.5</td>\n",
       "      <td>180.0</td>\n",
       "      <td>8.796875</td>\n",
       "    </tr>\n",
       "    <tr>\n",
       "      <th>20216099</th>\n",
       "      <td>1448</td>\n",
       "      <td>0</td>\n",
       "      <td>2016-12-31 23:00:00</td>\n",
       "      <td>2.850000</td>\n",
       "      <td>23</td>\n",
       "      <td>31</td>\n",
       "      <td>5</td>\n",
       "      <td>12</td>\n",
       "      <td>15</td>\n",
       "      <td>Office</td>\n",
       "      <td>92271</td>\n",
       "      <td>2001.0</td>\n",
       "      <td>NaN</td>\n",
       "      <td>1.700195</td>\n",
       "      <td>NaN</td>\n",
       "      <td>-5.601562</td>\n",
       "      <td>-1.0</td>\n",
       "      <td>1008.5</td>\n",
       "      <td>180.0</td>\n",
       "      <td>8.796875</td>\n",
       "    </tr>\n",
       "  </tbody>\n",
       "</table>\n",
       "<p>20216100 rows × 20 columns</p>\n",
       "</div>"
      ],
      "text/plain": [
       "          building_id  meter           timestamp  meter_reading  hour  day  \\\n",
       "0                   0      0 2016-01-01 00:00:00       0.000000     0    1   \n",
       "1                   1      0 2016-01-01 00:00:00       0.000000     0    1   \n",
       "2                   2      0 2016-01-01 00:00:00       0.000000     0    1   \n",
       "3                   3      0 2016-01-01 00:00:00       0.000000     0    1   \n",
       "4                   4      0 2016-01-01 00:00:00       0.000000     0    1   \n",
       "...               ...    ...                 ...            ...   ...  ...   \n",
       "20216095         1444      0 2016-12-31 23:00:00       8.750000    23   31   \n",
       "20216096         1445      0 2016-12-31 23:00:00       4.825000    23   31   \n",
       "20216097         1446      0 2016-12-31 23:00:00       0.000000    23   31   \n",
       "20216098         1447      0 2016-12-31 23:00:00     159.574997    23   31   \n",
       "20216099         1448      0 2016-12-31 23:00:00       2.850000    23   31   \n",
       "\n",
       "          weekend  month  site_id                    primary_use  square_feet  \\\n",
       "0               4      1        0                      Education         7432   \n",
       "1               4      1        0                      Education         2720   \n",
       "2               4      1        0                      Education         5376   \n",
       "3               4      1        0                      Education        23685   \n",
       "4               4      1        0                      Education       116607   \n",
       "...           ...    ...      ...                            ...          ...   \n",
       "20216095        5     12       15  Entertainment/public assembly        19619   \n",
       "20216096        5     12       15                      Education         4298   \n",
       "20216097        5     12       15  Entertainment/public assembly        11265   \n",
       "20216098        5     12       15            Lodging/residential        29775   \n",
       "20216099        5     12       15                         Office        92271   \n",
       "\n",
       "          year_built  floor_count  air_temperature  cloud_coverage  \\\n",
       "0             2008.0          NaN        25.000000             6.0   \n",
       "1             2004.0          NaN        25.000000             6.0   \n",
       "2             1991.0          NaN        25.000000             6.0   \n",
       "3             2002.0          NaN        25.000000             6.0   \n",
       "4             1975.0          NaN        25.000000             6.0   \n",
       "...              ...          ...              ...             ...   \n",
       "20216095      1914.0          NaN         1.700195             NaN   \n",
       "20216096         NaN          NaN         1.700195             NaN   \n",
       "20216097      1997.0          NaN         1.700195             NaN   \n",
       "20216098      2001.0          NaN         1.700195             NaN   \n",
       "20216099      2001.0          NaN         1.700195             NaN   \n",
       "\n",
       "          dew_temperature  precip_depth_1_hr  sea_level_pressure  \\\n",
       "0               20.000000                NaN              1019.5   \n",
       "1               20.000000                NaN              1019.5   \n",
       "2               20.000000                NaN              1019.5   \n",
       "3               20.000000                NaN              1019.5   \n",
       "4               20.000000                NaN              1019.5   \n",
       "...                   ...                ...                 ...   \n",
       "20216095        -5.601562               -1.0              1008.5   \n",
       "20216096        -5.601562               -1.0              1008.5   \n",
       "20216097        -5.601562               -1.0              1008.5   \n",
       "20216098        -5.601562               -1.0              1008.5   \n",
       "20216099        -5.601562               -1.0              1008.5   \n",
       "\n",
       "          wind_direction  wind_speed  \n",
       "0                    0.0    0.000000  \n",
       "1                    0.0    0.000000  \n",
       "2                    0.0    0.000000  \n",
       "3                    0.0    0.000000  \n",
       "4                    0.0    0.000000  \n",
       "...                  ...         ...  \n",
       "20216095           180.0    8.796875  \n",
       "20216096           180.0    8.796875  \n",
       "20216097           180.0    8.796875  \n",
       "20216098           180.0    8.796875  \n",
       "20216099           180.0    8.796875  \n",
       "\n",
       "[20216100 rows x 20 columns]"
      ]
     },
     "execution_count": 15,
     "metadata": {},
     "output_type": "execute_result"
    }
   ],
   "source": [
    "train_df = pd.read_pickle('train_df.pkl')\n",
    "test_df = pd.read_pickle('test_df.pkl')\n",
    "\n",
    "train_df"
   ]
  },
  {
   "cell_type": "markdown",
   "metadata": {},
   "source": [
    "# Featuring Engineering"
   ]
  },
  {
   "cell_type": "markdown",
   "metadata": {},
   "source": [
    "**Encoding**"
   ]
  },
  {
   "cell_type": "code",
   "execution_count": 16,
   "metadata": {
    "execution": {
     "iopub.execute_input": "2021-07-24T00:50:50.973766Z",
     "iopub.status.busy": "2021-07-24T00:50:50.973458Z",
     "iopub.status.idle": "2021-07-24T00:51:01.420484Z",
     "shell.execute_reply": "2021-07-24T00:51:01.419654Z",
     "shell.execute_reply.started": "2021-07-24T00:50:50.973736Z"
    }
   },
   "outputs": [],
   "source": [
    "le = LabelEncoder()\n",
    "\n",
    "train_df['primary_use'] = le.fit_transform(train_df['primary_use']).astype(np.int8)\n",
    "\n",
    "test_df['primary_use'] = le.fit_transform(test_df['primary_use']).astype(np.int8)"
   ]
  },
  {
   "cell_type": "markdown",
   "metadata": {},
   "source": [
    "**Calculating The Age**"
   ]
  },
  {
   "cell_type": "code",
   "execution_count": 17,
   "metadata": {
    "execution": {
     "iopub.execute_input": "2021-07-24T00:51:01.422043Z",
     "iopub.status.busy": "2021-07-24T00:51:01.421585Z",
     "iopub.status.idle": "2021-07-24T00:51:01.425065Z",
     "shell.execute_reply": "2021-07-24T00:51:01.424397Z",
     "shell.execute_reply.started": "2021-07-24T00:51:01.421997Z"
    }
   },
   "outputs": [],
   "source": [
    "#train_df['age'] = train_df['year_built'].max() - train_df['year_built'] + 1\n",
    "#test_df['age'] = test_df['year_built'].max() - test_df['year_built'] + 1"
   ]
  },
  {
   "cell_type": "markdown",
   "metadata": {},
   "source": [
    "**Find the optimal feature subset using an evaluation measure. The choice of evaluation metric distinguish the three main strategies of feature selection algorithms: the wrapper strategy, the filter strategy, and the embedded strategy.**\n",
    "\n",
    "Filter methods:\n",
    "\n",
    "    information gain\n",
    "    chi-square test\n",
    "    correlation coefficient\n",
    "    variance threshold\n",
    "    \n",
    "    \n",
    "Wrapper methods:\n",
    "\n",
    "    recursive feature elimination\n",
    "    sequential feature selection algorithms\n",
    "    \n",
    "    \n",
    "Embedded methods:\n",
    "\n",
    "    L1 (LASSO) regularization\n",
    "    decision tree"
   ]
  },
  {
   "cell_type": "code",
   "execution_count": 18,
   "metadata": {
    "execution": {
     "iopub.execute_input": "2021-07-24T00:51:01.426616Z",
     "iopub.status.busy": "2021-07-24T00:51:01.426195Z",
     "iopub.status.idle": "2021-07-24T00:51:01.464116Z",
     "shell.execute_reply": "2021-07-24T00:51:01.463349Z",
     "shell.execute_reply.started": "2021-07-24T00:51:01.426573Z"
    }
   },
   "outputs": [
    {
     "data": {
      "text/html": [
       "<div>\n",
       "<style scoped>\n",
       "    .dataframe tbody tr th:only-of-type {\n",
       "        vertical-align: middle;\n",
       "    }\n",
       "\n",
       "    .dataframe tbody tr th {\n",
       "        vertical-align: top;\n",
       "    }\n",
       "\n",
       "    .dataframe thead th {\n",
       "        text-align: right;\n",
       "    }\n",
       "</style>\n",
       "<table border=\"1\" class=\"dataframe\">\n",
       "  <thead>\n",
       "    <tr style=\"text-align: right;\">\n",
       "      <th></th>\n",
       "      <th>building_id</th>\n",
       "      <th>meter</th>\n",
       "      <th>timestamp</th>\n",
       "      <th>meter_reading</th>\n",
       "      <th>hour</th>\n",
       "      <th>day</th>\n",
       "      <th>weekend</th>\n",
       "      <th>month</th>\n",
       "      <th>site_id</th>\n",
       "      <th>primary_use</th>\n",
       "      <th>square_feet</th>\n",
       "      <th>year_built</th>\n",
       "      <th>floor_count</th>\n",
       "      <th>air_temperature</th>\n",
       "      <th>cloud_coverage</th>\n",
       "      <th>dew_temperature</th>\n",
       "      <th>precip_depth_1_hr</th>\n",
       "      <th>sea_level_pressure</th>\n",
       "      <th>wind_direction</th>\n",
       "      <th>wind_speed</th>\n",
       "    </tr>\n",
       "  </thead>\n",
       "  <tbody>\n",
       "    <tr>\n",
       "      <th>0</th>\n",
       "      <td>0</td>\n",
       "      <td>0</td>\n",
       "      <td>2016-01-01 00:00:00</td>\n",
       "      <td>0.000000</td>\n",
       "      <td>0</td>\n",
       "      <td>1</td>\n",
       "      <td>4</td>\n",
       "      <td>1</td>\n",
       "      <td>0</td>\n",
       "      <td>0</td>\n",
       "      <td>7432</td>\n",
       "      <td>2008.0</td>\n",
       "      <td>NaN</td>\n",
       "      <td>25.000000</td>\n",
       "      <td>6.0</td>\n",
       "      <td>20.000000</td>\n",
       "      <td>NaN</td>\n",
       "      <td>1019.5</td>\n",
       "      <td>0.0</td>\n",
       "      <td>0.000000</td>\n",
       "    </tr>\n",
       "    <tr>\n",
       "      <th>1</th>\n",
       "      <td>1</td>\n",
       "      <td>0</td>\n",
       "      <td>2016-01-01 00:00:00</td>\n",
       "      <td>0.000000</td>\n",
       "      <td>0</td>\n",
       "      <td>1</td>\n",
       "      <td>4</td>\n",
       "      <td>1</td>\n",
       "      <td>0</td>\n",
       "      <td>0</td>\n",
       "      <td>2720</td>\n",
       "      <td>2004.0</td>\n",
       "      <td>NaN</td>\n",
       "      <td>25.000000</td>\n",
       "      <td>6.0</td>\n",
       "      <td>20.000000</td>\n",
       "      <td>NaN</td>\n",
       "      <td>1019.5</td>\n",
       "      <td>0.0</td>\n",
       "      <td>0.000000</td>\n",
       "    </tr>\n",
       "    <tr>\n",
       "      <th>2</th>\n",
       "      <td>2</td>\n",
       "      <td>0</td>\n",
       "      <td>2016-01-01 00:00:00</td>\n",
       "      <td>0.000000</td>\n",
       "      <td>0</td>\n",
       "      <td>1</td>\n",
       "      <td>4</td>\n",
       "      <td>1</td>\n",
       "      <td>0</td>\n",
       "      <td>0</td>\n",
       "      <td>5376</td>\n",
       "      <td>1991.0</td>\n",
       "      <td>NaN</td>\n",
       "      <td>25.000000</td>\n",
       "      <td>6.0</td>\n",
       "      <td>20.000000</td>\n",
       "      <td>NaN</td>\n",
       "      <td>1019.5</td>\n",
       "      <td>0.0</td>\n",
       "      <td>0.000000</td>\n",
       "    </tr>\n",
       "    <tr>\n",
       "      <th>3</th>\n",
       "      <td>3</td>\n",
       "      <td>0</td>\n",
       "      <td>2016-01-01 00:00:00</td>\n",
       "      <td>0.000000</td>\n",
       "      <td>0</td>\n",
       "      <td>1</td>\n",
       "      <td>4</td>\n",
       "      <td>1</td>\n",
       "      <td>0</td>\n",
       "      <td>0</td>\n",
       "      <td>23685</td>\n",
       "      <td>2002.0</td>\n",
       "      <td>NaN</td>\n",
       "      <td>25.000000</td>\n",
       "      <td>6.0</td>\n",
       "      <td>20.000000</td>\n",
       "      <td>NaN</td>\n",
       "      <td>1019.5</td>\n",
       "      <td>0.0</td>\n",
       "      <td>0.000000</td>\n",
       "    </tr>\n",
       "    <tr>\n",
       "      <th>4</th>\n",
       "      <td>4</td>\n",
       "      <td>0</td>\n",
       "      <td>2016-01-01 00:00:00</td>\n",
       "      <td>0.000000</td>\n",
       "      <td>0</td>\n",
       "      <td>1</td>\n",
       "      <td>4</td>\n",
       "      <td>1</td>\n",
       "      <td>0</td>\n",
       "      <td>0</td>\n",
       "      <td>116607</td>\n",
       "      <td>1975.0</td>\n",
       "      <td>NaN</td>\n",
       "      <td>25.000000</td>\n",
       "      <td>6.0</td>\n",
       "      <td>20.000000</td>\n",
       "      <td>NaN</td>\n",
       "      <td>1019.5</td>\n",
       "      <td>0.0</td>\n",
       "      <td>0.000000</td>\n",
       "    </tr>\n",
       "    <tr>\n",
       "      <th>...</th>\n",
       "      <td>...</td>\n",
       "      <td>...</td>\n",
       "      <td>...</td>\n",
       "      <td>...</td>\n",
       "      <td>...</td>\n",
       "      <td>...</td>\n",
       "      <td>...</td>\n",
       "      <td>...</td>\n",
       "      <td>...</td>\n",
       "      <td>...</td>\n",
       "      <td>...</td>\n",
       "      <td>...</td>\n",
       "      <td>...</td>\n",
       "      <td>...</td>\n",
       "      <td>...</td>\n",
       "      <td>...</td>\n",
       "      <td>...</td>\n",
       "      <td>...</td>\n",
       "      <td>...</td>\n",
       "      <td>...</td>\n",
       "    </tr>\n",
       "    <tr>\n",
       "      <th>20216095</th>\n",
       "      <td>1444</td>\n",
       "      <td>0</td>\n",
       "      <td>2016-12-31 23:00:00</td>\n",
       "      <td>8.750000</td>\n",
       "      <td>23</td>\n",
       "      <td>31</td>\n",
       "      <td>5</td>\n",
       "      <td>12</td>\n",
       "      <td>15</td>\n",
       "      <td>1</td>\n",
       "      <td>19619</td>\n",
       "      <td>1914.0</td>\n",
       "      <td>NaN</td>\n",
       "      <td>1.700195</td>\n",
       "      <td>NaN</td>\n",
       "      <td>-5.601562</td>\n",
       "      <td>-1.0</td>\n",
       "      <td>1008.5</td>\n",
       "      <td>180.0</td>\n",
       "      <td>8.796875</td>\n",
       "    </tr>\n",
       "    <tr>\n",
       "      <th>20216096</th>\n",
       "      <td>1445</td>\n",
       "      <td>0</td>\n",
       "      <td>2016-12-31 23:00:00</td>\n",
       "      <td>4.825000</td>\n",
       "      <td>23</td>\n",
       "      <td>31</td>\n",
       "      <td>5</td>\n",
       "      <td>12</td>\n",
       "      <td>15</td>\n",
       "      <td>0</td>\n",
       "      <td>4298</td>\n",
       "      <td>NaN</td>\n",
       "      <td>NaN</td>\n",
       "      <td>1.700195</td>\n",
       "      <td>NaN</td>\n",
       "      <td>-5.601562</td>\n",
       "      <td>-1.0</td>\n",
       "      <td>1008.5</td>\n",
       "      <td>180.0</td>\n",
       "      <td>8.796875</td>\n",
       "    </tr>\n",
       "    <tr>\n",
       "      <th>20216097</th>\n",
       "      <td>1446</td>\n",
       "      <td>0</td>\n",
       "      <td>2016-12-31 23:00:00</td>\n",
       "      <td>0.000000</td>\n",
       "      <td>23</td>\n",
       "      <td>31</td>\n",
       "      <td>5</td>\n",
       "      <td>12</td>\n",
       "      <td>15</td>\n",
       "      <td>1</td>\n",
       "      <td>11265</td>\n",
       "      <td>1997.0</td>\n",
       "      <td>NaN</td>\n",
       "      <td>1.700195</td>\n",
       "      <td>NaN</td>\n",
       "      <td>-5.601562</td>\n",
       "      <td>-1.0</td>\n",
       "      <td>1008.5</td>\n",
       "      <td>180.0</td>\n",
       "      <td>8.796875</td>\n",
       "    </tr>\n",
       "    <tr>\n",
       "      <th>20216098</th>\n",
       "      <td>1447</td>\n",
       "      <td>0</td>\n",
       "      <td>2016-12-31 23:00:00</td>\n",
       "      <td>159.574997</td>\n",
       "      <td>23</td>\n",
       "      <td>31</td>\n",
       "      <td>5</td>\n",
       "      <td>12</td>\n",
       "      <td>15</td>\n",
       "      <td>4</td>\n",
       "      <td>29775</td>\n",
       "      <td>2001.0</td>\n",
       "      <td>NaN</td>\n",
       "      <td>1.700195</td>\n",
       "      <td>NaN</td>\n",
       "      <td>-5.601562</td>\n",
       "      <td>-1.0</td>\n",
       "      <td>1008.5</td>\n",
       "      <td>180.0</td>\n",
       "      <td>8.796875</td>\n",
       "    </tr>\n",
       "    <tr>\n",
       "      <th>20216099</th>\n",
       "      <td>1448</td>\n",
       "      <td>0</td>\n",
       "      <td>2016-12-31 23:00:00</td>\n",
       "      <td>2.850000</td>\n",
       "      <td>23</td>\n",
       "      <td>31</td>\n",
       "      <td>5</td>\n",
       "      <td>12</td>\n",
       "      <td>15</td>\n",
       "      <td>6</td>\n",
       "      <td>92271</td>\n",
       "      <td>2001.0</td>\n",
       "      <td>NaN</td>\n",
       "      <td>1.700195</td>\n",
       "      <td>NaN</td>\n",
       "      <td>-5.601562</td>\n",
       "      <td>-1.0</td>\n",
       "      <td>1008.5</td>\n",
       "      <td>180.0</td>\n",
       "      <td>8.796875</td>\n",
       "    </tr>\n",
       "  </tbody>\n",
       "</table>\n",
       "<p>20216100 rows × 20 columns</p>\n",
       "</div>"
      ],
      "text/plain": [
       "          building_id  meter           timestamp  meter_reading  hour  day  \\\n",
       "0                   0      0 2016-01-01 00:00:00       0.000000     0    1   \n",
       "1                   1      0 2016-01-01 00:00:00       0.000000     0    1   \n",
       "2                   2      0 2016-01-01 00:00:00       0.000000     0    1   \n",
       "3                   3      0 2016-01-01 00:00:00       0.000000     0    1   \n",
       "4                   4      0 2016-01-01 00:00:00       0.000000     0    1   \n",
       "...               ...    ...                 ...            ...   ...  ...   \n",
       "20216095         1444      0 2016-12-31 23:00:00       8.750000    23   31   \n",
       "20216096         1445      0 2016-12-31 23:00:00       4.825000    23   31   \n",
       "20216097         1446      0 2016-12-31 23:00:00       0.000000    23   31   \n",
       "20216098         1447      0 2016-12-31 23:00:00     159.574997    23   31   \n",
       "20216099         1448      0 2016-12-31 23:00:00       2.850000    23   31   \n",
       "\n",
       "          weekend  month  site_id  primary_use  square_feet  year_built  \\\n",
       "0               4      1        0            0         7432      2008.0   \n",
       "1               4      1        0            0         2720      2004.0   \n",
       "2               4      1        0            0         5376      1991.0   \n",
       "3               4      1        0            0        23685      2002.0   \n",
       "4               4      1        0            0       116607      1975.0   \n",
       "...           ...    ...      ...          ...          ...         ...   \n",
       "20216095        5     12       15            1        19619      1914.0   \n",
       "20216096        5     12       15            0         4298         NaN   \n",
       "20216097        5     12       15            1        11265      1997.0   \n",
       "20216098        5     12       15            4        29775      2001.0   \n",
       "20216099        5     12       15            6        92271      2001.0   \n",
       "\n",
       "          floor_count  air_temperature  cloud_coverage  dew_temperature  \\\n",
       "0                 NaN        25.000000             6.0        20.000000   \n",
       "1                 NaN        25.000000             6.0        20.000000   \n",
       "2                 NaN        25.000000             6.0        20.000000   \n",
       "3                 NaN        25.000000             6.0        20.000000   \n",
       "4                 NaN        25.000000             6.0        20.000000   \n",
       "...               ...              ...             ...              ...   \n",
       "20216095          NaN         1.700195             NaN        -5.601562   \n",
       "20216096          NaN         1.700195             NaN        -5.601562   \n",
       "20216097          NaN         1.700195             NaN        -5.601562   \n",
       "20216098          NaN         1.700195             NaN        -5.601562   \n",
       "20216099          NaN         1.700195             NaN        -5.601562   \n",
       "\n",
       "          precip_depth_1_hr  sea_level_pressure  wind_direction  wind_speed  \n",
       "0                       NaN              1019.5             0.0    0.000000  \n",
       "1                       NaN              1019.5             0.0    0.000000  \n",
       "2                       NaN              1019.5             0.0    0.000000  \n",
       "3                       NaN              1019.5             0.0    0.000000  \n",
       "4                       NaN              1019.5             0.0    0.000000  \n",
       "...                     ...                 ...             ...         ...  \n",
       "20216095               -1.0              1008.5           180.0    8.796875  \n",
       "20216096               -1.0              1008.5           180.0    8.796875  \n",
       "20216097               -1.0              1008.5           180.0    8.796875  \n",
       "20216098               -1.0              1008.5           180.0    8.796875  \n",
       "20216099               -1.0              1008.5           180.0    8.796875  \n",
       "\n",
       "[20216100 rows x 20 columns]"
      ]
     },
     "execution_count": 18,
     "metadata": {},
     "output_type": "execute_result"
    }
   ],
   "source": [
    "train_df"
   ]
  },
  {
   "cell_type": "markdown",
   "metadata": {},
   "source": [
    "**Dropping Timestamps**"
   ]
  },
  {
   "cell_type": "code",
   "execution_count": 19,
   "metadata": {
    "execution": {
     "iopub.execute_input": "2021-07-24T00:51:01.465660Z",
     "iopub.status.busy": "2021-07-24T00:51:01.465234Z",
     "iopub.status.idle": "2021-07-24T00:51:03.353213Z",
     "shell.execute_reply": "2021-07-24T00:51:03.352335Z",
     "shell.execute_reply.started": "2021-07-24T00:51:01.465619Z"
    }
   },
   "outputs": [],
   "source": [
    "train_df = train_df.drop(\"timestamp\", axis = 1)"
   ]
  },
  {
   "cell_type": "code",
   "execution_count": 20,
   "metadata": {
    "execution": {
     "iopub.execute_input": "2021-07-24T00:51:03.354840Z",
     "iopub.status.busy": "2021-07-24T00:51:03.354376Z",
     "iopub.status.idle": "2021-07-24T00:51:08.795791Z",
     "shell.execute_reply": "2021-07-24T00:51:08.794784Z",
     "shell.execute_reply.started": "2021-07-24T00:51:03.354793Z"
    }
   },
   "outputs": [],
   "source": [
    "test_df = test_df.drop(\"timestamp\", axis = 1)"
   ]
  },
  {
   "cell_type": "markdown",
   "metadata": {},
   "source": [
    "# Dealing With Cat,Num Features And Dropping Unnecessary Features"
   ]
  },
  {
   "cell_type": "code",
   "execution_count": 21,
   "metadata": {
    "execution": {
     "iopub.execute_input": "2021-07-24T00:51:08.797192Z",
     "iopub.status.busy": "2021-07-24T00:51:08.796900Z",
     "iopub.status.idle": "2021-07-24T00:51:08.802180Z",
     "shell.execute_reply": "2021-07-24T00:51:08.801232Z",
     "shell.execute_reply.started": "2021-07-24T00:51:08.797164Z"
    }
   },
   "outputs": [],
   "source": [
    "categoricals = [\"building_id\", \"primary_use\", \"hour\", \"day\", \"weekend\", \"month\", \"meter\"]\n",
    "\n",
    "numericals = [\"square_feet\", \"year_built\", \"air_temperature\", \"cloud_coverage\",\"dew_temperature\"]"
   ]
  },
  {
   "cell_type": "code",
   "execution_count": 22,
   "metadata": {
    "execution": {
     "iopub.execute_input": "2021-07-24T00:51:08.803945Z",
     "iopub.status.busy": "2021-07-24T00:51:08.803618Z",
     "iopub.status.idle": "2021-07-24T00:51:08.820752Z",
     "shell.execute_reply": "2021-07-24T00:51:08.819772Z",
     "shell.execute_reply.started": "2021-07-24T00:51:08.803914Z"
    }
   },
   "outputs": [],
   "source": [
    "drop_cols = [\"precip_depth_1_hr\", \"sea_level_pressure\", \"wind_direction\", \"wind_speed\"]"
   ]
  },
  {
   "cell_type": "code",
   "execution_count": 23,
   "metadata": {
    "execution": {
     "iopub.execute_input": "2021-07-24T00:51:08.822738Z",
     "iopub.status.busy": "2021-07-24T00:51:08.822265Z",
     "iopub.status.idle": "2021-07-24T00:51:09.405948Z",
     "shell.execute_reply": "2021-07-24T00:51:09.404763Z",
     "shell.execute_reply.started": "2021-07-24T00:51:08.822681Z"
    }
   },
   "outputs": [
    {
     "data": {
      "text/html": [
       "<div>\n",
       "<style scoped>\n",
       "    .dataframe tbody tr th:only-of-type {\n",
       "        vertical-align: middle;\n",
       "    }\n",
       "\n",
       "    .dataframe tbody tr th {\n",
       "        vertical-align: top;\n",
       "    }\n",
       "\n",
       "    .dataframe thead th {\n",
       "        text-align: right;\n",
       "    }\n",
       "</style>\n",
       "<table border=\"1\" class=\"dataframe\">\n",
       "  <thead>\n",
       "    <tr style=\"text-align: right;\">\n",
       "      <th></th>\n",
       "      <th>building_id</th>\n",
       "      <th>primary_use</th>\n",
       "      <th>hour</th>\n",
       "      <th>day</th>\n",
       "      <th>weekend</th>\n",
       "      <th>month</th>\n",
       "      <th>meter</th>\n",
       "      <th>square_feet</th>\n",
       "      <th>year_built</th>\n",
       "      <th>air_temperature</th>\n",
       "      <th>cloud_coverage</th>\n",
       "      <th>dew_temperature</th>\n",
       "    </tr>\n",
       "  </thead>\n",
       "  <tbody>\n",
       "    <tr>\n",
       "      <th>0</th>\n",
       "      <td>0</td>\n",
       "      <td>0</td>\n",
       "      <td>0</td>\n",
       "      <td>1</td>\n",
       "      <td>4</td>\n",
       "      <td>1</td>\n",
       "      <td>0</td>\n",
       "      <td>7432</td>\n",
       "      <td>2008.0</td>\n",
       "      <td>25.000000</td>\n",
       "      <td>6.0</td>\n",
       "      <td>20.000000</td>\n",
       "    </tr>\n",
       "    <tr>\n",
       "      <th>1</th>\n",
       "      <td>1</td>\n",
       "      <td>0</td>\n",
       "      <td>0</td>\n",
       "      <td>1</td>\n",
       "      <td>4</td>\n",
       "      <td>1</td>\n",
       "      <td>0</td>\n",
       "      <td>2720</td>\n",
       "      <td>2004.0</td>\n",
       "      <td>25.000000</td>\n",
       "      <td>6.0</td>\n",
       "      <td>20.000000</td>\n",
       "    </tr>\n",
       "    <tr>\n",
       "      <th>2</th>\n",
       "      <td>2</td>\n",
       "      <td>0</td>\n",
       "      <td>0</td>\n",
       "      <td>1</td>\n",
       "      <td>4</td>\n",
       "      <td>1</td>\n",
       "      <td>0</td>\n",
       "      <td>5376</td>\n",
       "      <td>1991.0</td>\n",
       "      <td>25.000000</td>\n",
       "      <td>6.0</td>\n",
       "      <td>20.000000</td>\n",
       "    </tr>\n",
       "    <tr>\n",
       "      <th>3</th>\n",
       "      <td>3</td>\n",
       "      <td>0</td>\n",
       "      <td>0</td>\n",
       "      <td>1</td>\n",
       "      <td>4</td>\n",
       "      <td>1</td>\n",
       "      <td>0</td>\n",
       "      <td>23685</td>\n",
       "      <td>2002.0</td>\n",
       "      <td>25.000000</td>\n",
       "      <td>6.0</td>\n",
       "      <td>20.000000</td>\n",
       "    </tr>\n",
       "    <tr>\n",
       "      <th>4</th>\n",
       "      <td>4</td>\n",
       "      <td>0</td>\n",
       "      <td>0</td>\n",
       "      <td>1</td>\n",
       "      <td>4</td>\n",
       "      <td>1</td>\n",
       "      <td>0</td>\n",
       "      <td>116607</td>\n",
       "      <td>1975.0</td>\n",
       "      <td>25.000000</td>\n",
       "      <td>6.0</td>\n",
       "      <td>20.000000</td>\n",
       "    </tr>\n",
       "    <tr>\n",
       "      <th>...</th>\n",
       "      <td>...</td>\n",
       "      <td>...</td>\n",
       "      <td>...</td>\n",
       "      <td>...</td>\n",
       "      <td>...</td>\n",
       "      <td>...</td>\n",
       "      <td>...</td>\n",
       "      <td>...</td>\n",
       "      <td>...</td>\n",
       "      <td>...</td>\n",
       "      <td>...</td>\n",
       "      <td>...</td>\n",
       "    </tr>\n",
       "    <tr>\n",
       "      <th>20216095</th>\n",
       "      <td>1444</td>\n",
       "      <td>1</td>\n",
       "      <td>23</td>\n",
       "      <td>31</td>\n",
       "      <td>5</td>\n",
       "      <td>12</td>\n",
       "      <td>0</td>\n",
       "      <td>19619</td>\n",
       "      <td>1914.0</td>\n",
       "      <td>1.700195</td>\n",
       "      <td>NaN</td>\n",
       "      <td>-5.601562</td>\n",
       "    </tr>\n",
       "    <tr>\n",
       "      <th>20216096</th>\n",
       "      <td>1445</td>\n",
       "      <td>0</td>\n",
       "      <td>23</td>\n",
       "      <td>31</td>\n",
       "      <td>5</td>\n",
       "      <td>12</td>\n",
       "      <td>0</td>\n",
       "      <td>4298</td>\n",
       "      <td>NaN</td>\n",
       "      <td>1.700195</td>\n",
       "      <td>NaN</td>\n",
       "      <td>-5.601562</td>\n",
       "    </tr>\n",
       "    <tr>\n",
       "      <th>20216097</th>\n",
       "      <td>1446</td>\n",
       "      <td>1</td>\n",
       "      <td>23</td>\n",
       "      <td>31</td>\n",
       "      <td>5</td>\n",
       "      <td>12</td>\n",
       "      <td>0</td>\n",
       "      <td>11265</td>\n",
       "      <td>1997.0</td>\n",
       "      <td>1.700195</td>\n",
       "      <td>NaN</td>\n",
       "      <td>-5.601562</td>\n",
       "    </tr>\n",
       "    <tr>\n",
       "      <th>20216098</th>\n",
       "      <td>1447</td>\n",
       "      <td>4</td>\n",
       "      <td>23</td>\n",
       "      <td>31</td>\n",
       "      <td>5</td>\n",
       "      <td>12</td>\n",
       "      <td>0</td>\n",
       "      <td>29775</td>\n",
       "      <td>2001.0</td>\n",
       "      <td>1.700195</td>\n",
       "      <td>NaN</td>\n",
       "      <td>-5.601562</td>\n",
       "    </tr>\n",
       "    <tr>\n",
       "      <th>20216099</th>\n",
       "      <td>1448</td>\n",
       "      <td>6</td>\n",
       "      <td>23</td>\n",
       "      <td>31</td>\n",
       "      <td>5</td>\n",
       "      <td>12</td>\n",
       "      <td>0</td>\n",
       "      <td>92271</td>\n",
       "      <td>2001.0</td>\n",
       "      <td>1.700195</td>\n",
       "      <td>NaN</td>\n",
       "      <td>-5.601562</td>\n",
       "    </tr>\n",
       "  </tbody>\n",
       "</table>\n",
       "<p>20216100 rows × 12 columns</p>\n",
       "</div>"
      ],
      "text/plain": [
       "          building_id  primary_use  hour  day  weekend  month  meter  \\\n",
       "0                   0            0     0    1        4      1      0   \n",
       "1                   1            0     0    1        4      1      0   \n",
       "2                   2            0     0    1        4      1      0   \n",
       "3                   3            0     0    1        4      1      0   \n",
       "4                   4            0     0    1        4      1      0   \n",
       "...               ...          ...   ...  ...      ...    ...    ...   \n",
       "20216095         1444            1    23   31        5     12      0   \n",
       "20216096         1445            0    23   31        5     12      0   \n",
       "20216097         1446            1    23   31        5     12      0   \n",
       "20216098         1447            4    23   31        5     12      0   \n",
       "20216099         1448            6    23   31        5     12      0   \n",
       "\n",
       "          square_feet  year_built  air_temperature  cloud_coverage  \\\n",
       "0                7432      2008.0        25.000000             6.0   \n",
       "1                2720      2004.0        25.000000             6.0   \n",
       "2                5376      1991.0        25.000000             6.0   \n",
       "3               23685      2002.0        25.000000             6.0   \n",
       "4              116607      1975.0        25.000000             6.0   \n",
       "...               ...         ...              ...             ...   \n",
       "20216095        19619      1914.0         1.700195             NaN   \n",
       "20216096         4298         NaN         1.700195             NaN   \n",
       "20216097        11265      1997.0         1.700195             NaN   \n",
       "20216098        29775      2001.0         1.700195             NaN   \n",
       "20216099        92271      2001.0         1.700195             NaN   \n",
       "\n",
       "          dew_temperature  \n",
       "0               20.000000  \n",
       "1               20.000000  \n",
       "2               20.000000  \n",
       "3               20.000000  \n",
       "4               20.000000  \n",
       "...                   ...  \n",
       "20216095        -5.601562  \n",
       "20216096        -5.601562  \n",
       "20216097        -5.601562  \n",
       "20216098        -5.601562  \n",
       "20216099        -5.601562  \n",
       "\n",
       "[20216100 rows x 12 columns]"
      ]
     },
     "execution_count": 23,
     "metadata": {},
     "output_type": "execute_result"
    }
   ],
   "source": [
    "train_df[categoricals + numericals]"
   ]
  },
  {
   "cell_type": "code",
   "execution_count": 24,
   "metadata": {
    "execution": {
     "iopub.execute_input": "2021-07-24T00:51:09.408047Z",
     "iopub.status.busy": "2021-07-24T00:51:09.407564Z",
     "iopub.status.idle": "2021-07-24T00:51:11.086841Z",
     "shell.execute_reply": "2021-07-24T00:51:11.085711Z",
     "shell.execute_reply.started": "2021-07-24T00:51:09.407999Z"
    }
   },
   "outputs": [
    {
     "data": {
      "text/html": [
       "<div>\n",
       "<style scoped>\n",
       "    .dataframe tbody tr th:only-of-type {\n",
       "        vertical-align: middle;\n",
       "    }\n",
       "\n",
       "    .dataframe tbody tr th {\n",
       "        vertical-align: top;\n",
       "    }\n",
       "\n",
       "    .dataframe thead th {\n",
       "        text-align: right;\n",
       "    }\n",
       "</style>\n",
       "<table border=\"1\" class=\"dataframe\">\n",
       "  <thead>\n",
       "    <tr style=\"text-align: right;\">\n",
       "      <th></th>\n",
       "      <th>building_id</th>\n",
       "      <th>primary_use</th>\n",
       "      <th>hour</th>\n",
       "      <th>day</th>\n",
       "      <th>weekend</th>\n",
       "      <th>month</th>\n",
       "      <th>meter</th>\n",
       "      <th>square_feet</th>\n",
       "      <th>year_built</th>\n",
       "      <th>air_temperature</th>\n",
       "      <th>cloud_coverage</th>\n",
       "      <th>dew_temperature</th>\n",
       "    </tr>\n",
       "  </thead>\n",
       "  <tbody>\n",
       "    <tr>\n",
       "      <th>0</th>\n",
       "      <td>0</td>\n",
       "      <td>0</td>\n",
       "      <td>0</td>\n",
       "      <td>1</td>\n",
       "      <td>6</td>\n",
       "      <td>1</td>\n",
       "      <td>0</td>\n",
       "      <td>7432</td>\n",
       "      <td>2008.0</td>\n",
       "      <td>17.796875</td>\n",
       "      <td>4.0</td>\n",
       "      <td>11.703125</td>\n",
       "    </tr>\n",
       "    <tr>\n",
       "      <th>1</th>\n",
       "      <td>1</td>\n",
       "      <td>0</td>\n",
       "      <td>0</td>\n",
       "      <td>1</td>\n",
       "      <td>6</td>\n",
       "      <td>1</td>\n",
       "      <td>0</td>\n",
       "      <td>2720</td>\n",
       "      <td>2004.0</td>\n",
       "      <td>17.796875</td>\n",
       "      <td>4.0</td>\n",
       "      <td>11.703125</td>\n",
       "    </tr>\n",
       "    <tr>\n",
       "      <th>2</th>\n",
       "      <td>2</td>\n",
       "      <td>0</td>\n",
       "      <td>0</td>\n",
       "      <td>1</td>\n",
       "      <td>6</td>\n",
       "      <td>1</td>\n",
       "      <td>0</td>\n",
       "      <td>5376</td>\n",
       "      <td>1991.0</td>\n",
       "      <td>17.796875</td>\n",
       "      <td>4.0</td>\n",
       "      <td>11.703125</td>\n",
       "    </tr>\n",
       "    <tr>\n",
       "      <th>3</th>\n",
       "      <td>3</td>\n",
       "      <td>0</td>\n",
       "      <td>0</td>\n",
       "      <td>1</td>\n",
       "      <td>6</td>\n",
       "      <td>1</td>\n",
       "      <td>0</td>\n",
       "      <td>23685</td>\n",
       "      <td>2002.0</td>\n",
       "      <td>17.796875</td>\n",
       "      <td>4.0</td>\n",
       "      <td>11.703125</td>\n",
       "    </tr>\n",
       "    <tr>\n",
       "      <th>4</th>\n",
       "      <td>4</td>\n",
       "      <td>0</td>\n",
       "      <td>0</td>\n",
       "      <td>1</td>\n",
       "      <td>6</td>\n",
       "      <td>1</td>\n",
       "      <td>0</td>\n",
       "      <td>116607</td>\n",
       "      <td>1975.0</td>\n",
       "      <td>17.796875</td>\n",
       "      <td>4.0</td>\n",
       "      <td>11.703125</td>\n",
       "    </tr>\n",
       "    <tr>\n",
       "      <th>...</th>\n",
       "      <td>...</td>\n",
       "      <td>...</td>\n",
       "      <td>...</td>\n",
       "      <td>...</td>\n",
       "      <td>...</td>\n",
       "      <td>...</td>\n",
       "      <td>...</td>\n",
       "      <td>...</td>\n",
       "      <td>...</td>\n",
       "      <td>...</td>\n",
       "      <td>...</td>\n",
       "      <td>...</td>\n",
       "    </tr>\n",
       "    <tr>\n",
       "      <th>41697595</th>\n",
       "      <td>1444</td>\n",
       "      <td>1</td>\n",
       "      <td>7</td>\n",
       "      <td>9</td>\n",
       "      <td>2</td>\n",
       "      <td>5</td>\n",
       "      <td>0</td>\n",
       "      <td>19619</td>\n",
       "      <td>1914.0</td>\n",
       "      <td>NaN</td>\n",
       "      <td>NaN</td>\n",
       "      <td>NaN</td>\n",
       "    </tr>\n",
       "    <tr>\n",
       "      <th>41697596</th>\n",
       "      <td>1445</td>\n",
       "      <td>0</td>\n",
       "      <td>7</td>\n",
       "      <td>9</td>\n",
       "      <td>2</td>\n",
       "      <td>5</td>\n",
       "      <td>0</td>\n",
       "      <td>4298</td>\n",
       "      <td>NaN</td>\n",
       "      <td>NaN</td>\n",
       "      <td>NaN</td>\n",
       "      <td>NaN</td>\n",
       "    </tr>\n",
       "    <tr>\n",
       "      <th>41697597</th>\n",
       "      <td>1446</td>\n",
       "      <td>1</td>\n",
       "      <td>7</td>\n",
       "      <td>9</td>\n",
       "      <td>2</td>\n",
       "      <td>5</td>\n",
       "      <td>0</td>\n",
       "      <td>11265</td>\n",
       "      <td>1997.0</td>\n",
       "      <td>NaN</td>\n",
       "      <td>NaN</td>\n",
       "      <td>NaN</td>\n",
       "    </tr>\n",
       "    <tr>\n",
       "      <th>41697598</th>\n",
       "      <td>1447</td>\n",
       "      <td>4</td>\n",
       "      <td>7</td>\n",
       "      <td>9</td>\n",
       "      <td>2</td>\n",
       "      <td>5</td>\n",
       "      <td>0</td>\n",
       "      <td>29775</td>\n",
       "      <td>2001.0</td>\n",
       "      <td>NaN</td>\n",
       "      <td>NaN</td>\n",
       "      <td>NaN</td>\n",
       "    </tr>\n",
       "    <tr>\n",
       "      <th>41697599</th>\n",
       "      <td>1448</td>\n",
       "      <td>6</td>\n",
       "      <td>7</td>\n",
       "      <td>9</td>\n",
       "      <td>2</td>\n",
       "      <td>5</td>\n",
       "      <td>0</td>\n",
       "      <td>92271</td>\n",
       "      <td>2001.0</td>\n",
       "      <td>NaN</td>\n",
       "      <td>NaN</td>\n",
       "      <td>NaN</td>\n",
       "    </tr>\n",
       "  </tbody>\n",
       "</table>\n",
       "<p>41697600 rows × 12 columns</p>\n",
       "</div>"
      ],
      "text/plain": [
       "          building_id  primary_use  hour  day  weekend  month  meter  \\\n",
       "0                   0            0     0    1        6      1      0   \n",
       "1                   1            0     0    1        6      1      0   \n",
       "2                   2            0     0    1        6      1      0   \n",
       "3                   3            0     0    1        6      1      0   \n",
       "4                   4            0     0    1        6      1      0   \n",
       "...               ...          ...   ...  ...      ...    ...    ...   \n",
       "41697595         1444            1     7    9        2      5      0   \n",
       "41697596         1445            0     7    9        2      5      0   \n",
       "41697597         1446            1     7    9        2      5      0   \n",
       "41697598         1447            4     7    9        2      5      0   \n",
       "41697599         1448            6     7    9        2      5      0   \n",
       "\n",
       "          square_feet  year_built  air_temperature  cloud_coverage  \\\n",
       "0                7432      2008.0        17.796875             4.0   \n",
       "1                2720      2004.0        17.796875             4.0   \n",
       "2                5376      1991.0        17.796875             4.0   \n",
       "3               23685      2002.0        17.796875             4.0   \n",
       "4              116607      1975.0        17.796875             4.0   \n",
       "...               ...         ...              ...             ...   \n",
       "41697595        19619      1914.0              NaN             NaN   \n",
       "41697596         4298         NaN              NaN             NaN   \n",
       "41697597        11265      1997.0              NaN             NaN   \n",
       "41697598        29775      2001.0              NaN             NaN   \n",
       "41697599        92271      2001.0              NaN             NaN   \n",
       "\n",
       "          dew_temperature  \n",
       "0               11.703125  \n",
       "1               11.703125  \n",
       "2               11.703125  \n",
       "3               11.703125  \n",
       "4               11.703125  \n",
       "...                   ...  \n",
       "41697595              NaN  \n",
       "41697596              NaN  \n",
       "41697597              NaN  \n",
       "41697598              NaN  \n",
       "41697599              NaN  \n",
       "\n",
       "[41697600 rows x 12 columns]"
      ]
     },
     "execution_count": 24,
     "metadata": {},
     "output_type": "execute_result"
    }
   ],
   "source": [
    "test_df[categoricals + numericals]"
   ]
  },
  {
   "cell_type": "code",
   "execution_count": 25,
   "metadata": {
    "execution": {
     "iopub.execute_input": "2021-07-24T00:51:11.088515Z",
     "iopub.status.busy": "2021-07-24T00:51:11.088229Z",
     "iopub.status.idle": "2021-07-24T00:51:11.093548Z",
     "shell.execute_reply": "2021-07-24T00:51:11.092115Z",
     "shell.execute_reply.started": "2021-07-24T00:51:11.088489Z"
    }
   },
   "outputs": [],
   "source": [
    "feat_cols = categoricals + numericals"
   ]
  },
  {
   "cell_type": "code",
   "execution_count": 26,
   "metadata": {
    "execution": {
     "iopub.execute_input": "2021-07-24T00:51:11.095649Z",
     "iopub.status.busy": "2021-07-24T00:51:11.095216Z",
     "iopub.status.idle": "2021-07-24T00:51:11.111079Z",
     "shell.execute_reply": "2021-07-24T00:51:11.109729Z",
     "shell.execute_reply.started": "2021-07-24T00:51:11.095578Z"
    }
   },
   "outputs": [
    {
     "data": {
      "text/plain": [
       "(20216100, 19)"
      ]
     },
     "execution_count": 26,
     "metadata": {},
     "output_type": "execute_result"
    }
   ],
   "source": [
    "train_df.shape"
   ]
  },
  {
   "cell_type": "code",
   "execution_count": 27,
   "metadata": {
    "execution": {
     "iopub.execute_input": "2021-07-24T00:51:11.113499Z",
     "iopub.status.busy": "2021-07-24T00:51:11.112898Z",
     "iopub.status.idle": "2021-07-24T00:51:11.126420Z",
     "shell.execute_reply": "2021-07-24T00:51:11.125197Z",
     "shell.execute_reply.started": "2021-07-24T00:51:11.113453Z"
    }
   },
   "outputs": [
    {
     "data": {
      "text/plain": [
       "(41697600, 19)"
      ]
     },
     "execution_count": 27,
     "metadata": {},
     "output_type": "execute_result"
    }
   ],
   "source": [
    "test_df.shape"
   ]
  },
  {
   "cell_type": "code",
   "execution_count": 28,
   "metadata": {
    "execution": {
     "iopub.execute_input": "2021-07-24T00:51:11.128610Z",
     "iopub.status.busy": "2021-07-24T00:51:11.128161Z",
     "iopub.status.idle": "2021-07-24T00:51:11.138854Z",
     "shell.execute_reply": "2021-07-24T00:51:11.137616Z",
     "shell.execute_reply.started": "2021-07-24T00:51:11.128565Z"
    }
   },
   "outputs": [],
   "source": [
    "#plotting 100 highest consuming buildings\n",
    "#import matplotlib.pyplot as plt\n",
    "#top_buildings = train_df.groupby(\"building_id\")[\"meter_reading\"].mean().sort_values(ascending = False).iloc[:100]\n",
    "\n",
    "#for value in top_buildings.index:\n",
    "#    train_df[train_df[\"building_id\"] == value][\"meter_reading\"].rolling(window = 24).mean().plot()\n",
    "#    plt.show()"
   ]
  },
  {
   "cell_type": "code",
   "execution_count": 29,
   "metadata": {
    "execution": {
     "iopub.execute_input": "2021-07-24T00:51:11.141622Z",
     "iopub.status.busy": "2021-07-24T00:51:11.140980Z",
     "iopub.status.idle": "2021-07-24T00:51:32.154998Z",
     "shell.execute_reply": "2021-07-24T00:51:32.153767Z",
     "shell.execute_reply.started": "2021-07-24T00:51:11.141574Z"
    }
   },
   "outputs": [
    {
     "data": {
      "text/plain": [
       "array([[<AxesSubplot:title={'center':'building_id'}>,\n",
       "        <AxesSubplot:title={'center':'meter'}>,\n",
       "        <AxesSubplot:title={'center':'meter_reading'}>,\n",
       "        <AxesSubplot:title={'center':'hour'}>],\n",
       "       [<AxesSubplot:title={'center':'day'}>,\n",
       "        <AxesSubplot:title={'center':'weekend'}>,\n",
       "        <AxesSubplot:title={'center':'month'}>,\n",
       "        <AxesSubplot:title={'center':'site_id'}>],\n",
       "       [<AxesSubplot:title={'center':'primary_use'}>,\n",
       "        <AxesSubplot:title={'center':'square_feet'}>,\n",
       "        <AxesSubplot:title={'center':'year_built'}>,\n",
       "        <AxesSubplot:title={'center':'floor_count'}>],\n",
       "       [<AxesSubplot:title={'center':'air_temperature'}>,\n",
       "        <AxesSubplot:title={'center':'cloud_coverage'}>,\n",
       "        <AxesSubplot:title={'center':'dew_temperature'}>,\n",
       "        <AxesSubplot:title={'center':'precip_depth_1_hr'}>],\n",
       "       [<AxesSubplot:title={'center':'sea_level_pressure'}>,\n",
       "        <AxesSubplot:title={'center':'wind_direction'}>,\n",
       "        <AxesSubplot:title={'center':'wind_speed'}>, <AxesSubplot:>]],\n",
       "      dtype=object)"
      ]
     },
     "execution_count": 29,
     "metadata": {},
     "output_type": "execute_result"
    },
    {
     "data": {
      "image/png": "[encoded data removed]",
      "text/plain": [
       "<Figure size 720x720 with 20 Axes>"
      ]
     },
     "metadata": {
      "needs_background": "light"
     },
     "output_type": "display_data"
    }
   ],
   "source": [
    "import matplotlib.pyplot as plt\n",
    "import seaborn as sns\n",
    "\n",
    "train_df.hist(figsize=(10,10),color=\"green\",bins=20)"
   ]
  },
  {
   "cell_type": "markdown",
   "metadata": {},
   "source": [
    "*When your input value is so small, using np.log1p to calculate, you will get the more accutrate result than np.log according to the interpretation from*"
   ]
  },
  {
   "cell_type": "code",
   "execution_count": 30,
   "metadata": {
    "execution": {
     "iopub.execute_input": "2021-07-24T00:51:32.157448Z",
     "iopub.status.busy": "2021-07-24T00:51:32.156955Z",
     "iopub.status.idle": "2021-07-24T00:51:32.534346Z",
     "shell.execute_reply": "2021-07-24T00:51:32.533270Z",
     "shell.execute_reply.started": "2021-07-24T00:51:32.157399Z"
    }
   },
   "outputs": [],
   "source": [
    "target = np.log1p(train_df[\"meter_reading\"])\n",
    "del train_df[\"meter_reading\"]"
   ]
  },
  {
   "cell_type": "code",
   "execution_count": 31,
   "metadata": {
    "execution": {
     "iopub.execute_input": "2021-07-24T00:51:32.536603Z",
     "iopub.status.busy": "2021-07-24T00:51:32.536177Z",
     "iopub.status.idle": "2021-07-24T00:51:33.636497Z",
     "shell.execute_reply": "2021-07-24T00:51:33.635303Z",
     "shell.execute_reply.started": "2021-07-24T00:51:32.536556Z"
    }
   },
   "outputs": [],
   "source": [
    "train_df = train_df.drop(drop_cols + [\"site_id\", \"floor_count\"], axis = 1)"
   ]
  },
  {
   "cell_type": "code",
   "execution_count": 32,
   "metadata": {
    "execution": {
     "iopub.execute_input": "2021-07-24T00:51:33.638624Z",
     "iopub.status.busy": "2021-07-24T00:51:33.637891Z",
     "iopub.status.idle": "2021-07-24T00:51:35.675861Z",
     "shell.execute_reply": "2021-07-24T00:51:35.674752Z",
     "shell.execute_reply.started": "2021-07-24T00:51:33.638545Z"
    }
   },
   "outputs": [],
   "source": [
    "test_df = test_df.drop(drop_cols + [\"site_id\", \"floor_count\",\"row_id\"], axis = 1)"
   ]
  },
  {
   "cell_type": "code",
   "execution_count": 33,
   "metadata": {
    "execution": {
     "iopub.execute_input": "2021-07-24T00:51:35.681528Z",
     "iopub.status.busy": "2021-07-24T00:51:35.681112Z",
     "iopub.status.idle": "2021-07-24T00:51:35.693676Z",
     "shell.execute_reply": "2021-07-24T00:51:35.692265Z",
     "shell.execute_reply.started": "2021-07-24T00:51:35.681488Z"
    }
   },
   "outputs": [
    {
     "name": "stdout",
     "output_type": "stream",
     "text": [
      "<class 'pandas.core.frame.DataFrame'>\n",
      "RangeIndex: 41697600 entries, 0 to 41697599\n",
      "Data columns (total 12 columns):\n",
      " #   Column           Dtype  \n",
      "---  ------           -----  \n",
      " 0   building_id      int16  \n",
      " 1   meter            int8   \n",
      " 2   hour             int64  \n",
      " 3   day              int64  \n",
      " 4   weekend          int64  \n",
      " 5   month            int64  \n",
      " 6   primary_use      int8   \n",
      " 7   square_feet      int32  \n",
      " 8   year_built       float16\n",
      " 9   air_temperature  float16\n",
      " 10  cloud_coverage   float16\n",
      " 11  dew_temperature  float16\n",
      "dtypes: float16(4), int16(1), int32(1), int64(4), int8(2)\n",
      "memory usage: 1.9 GB\n"
     ]
    }
   ],
   "source": [
    "test_df.info()"
   ]
  },
  {
   "cell_type": "code",
   "execution_count": 34,
   "metadata": {
    "execution": {
     "iopub.execute_input": "2021-07-24T00:51:35.696003Z",
     "iopub.status.busy": "2021-07-24T00:51:35.695555Z",
     "iopub.status.idle": "2021-07-24T00:51:35.719662Z",
     "shell.execute_reply": "2021-07-24T00:51:35.718289Z",
     "shell.execute_reply.started": "2021-07-24T00:51:35.695957Z"
    }
   },
   "outputs": [
    {
     "name": "stdout",
     "output_type": "stream",
     "text": [
      "<class 'pandas.core.frame.DataFrame'>\n",
      "RangeIndex: 20216100 entries, 0 to 20216099\n",
      "Data columns (total 12 columns):\n",
      " #   Column           Dtype  \n",
      "---  ------           -----  \n",
      " 0   building_id      int16  \n",
      " 1   meter            int8   \n",
      " 2   hour             int64  \n",
      " 3   day              int64  \n",
      " 4   weekend          int64  \n",
      " 5   month            int64  \n",
      " 6   primary_use      int8   \n",
      " 7   square_feet      int32  \n",
      " 8   year_built       float16\n",
      " 9   air_temperature  float16\n",
      " 10  cloud_coverage   float16\n",
      " 11  dew_temperature  float16\n",
      "dtypes: float16(4), int16(1), int32(1), int64(4), int8(2)\n",
      "memory usage: 925.4 MB\n"
     ]
    }
   ],
   "source": [
    "train_df.info()"
   ]
  },
  {
   "cell_type": "code",
   "execution_count": 35,
   "metadata": {
    "execution": {
     "iopub.execute_input": "2021-07-24T00:51:35.721390Z",
     "iopub.status.busy": "2021-07-24T00:51:35.721068Z",
     "iopub.status.idle": "2021-07-24T00:51:35.862979Z",
     "shell.execute_reply": "2021-07-24T00:51:35.861487Z",
     "shell.execute_reply.started": "2021-07-24T00:51:35.721360Z"
    }
   },
   "outputs": [
    {
     "data": {
      "text/plain": [
       "130"
      ]
     },
     "execution_count": 35,
     "metadata": {},
     "output_type": "execute_result"
    }
   ],
   "source": [
    "gc.collect()"
   ]
  },
  {
   "cell_type": "markdown",
   "metadata": {},
   "source": [
    "# Modelling"
   ]
  },
  {
   "cell_type": "code",
   "execution_count": 36,
   "metadata": {
    "execution": {
     "iopub.execute_input": "2021-07-24T00:51:35.864698Z",
     "iopub.status.busy": "2021-07-24T00:51:35.864387Z",
     "iopub.status.idle": "2021-07-24T00:51:35.876921Z",
     "shell.execute_reply": "2021-07-24T00:51:35.875826Z",
     "shell.execute_reply.started": "2021-07-24T00:51:35.864670Z"
    }
   },
   "outputs": [],
   "source": [
    "from sklearn.model_selection import KFold\n",
    "from sklearn.metrics import mean_squared_error\n",
    "import lightgbm as lgb"
   ]
  },
  {
   "cell_type": "markdown",
   "metadata": {},
   "source": [
    "**Cross-validation is a resampling procedure used to evaluate machine learning models on a limited data sample.**\n",
    "\n",
    "The general procedure is as follows:\n",
    "\n",
    "    Shuffle the dataset randomly.\n",
    "    \n",
    "    Split the dataset into k groups\n",
    "    \n",
    "    For each unique group:\n",
    "    \n",
    "        Take the group as a hold out or test data set\n",
    "        Take the remaining groups as a training data set\n",
    "        Fit a model on the training set and evaluate it on the test set\n",
    "        Retain the evaluation score and discard the model\n",
    "        \n",
    "    Summarize the skill of the model using the sample of model evaluation scores\n",
    "    \n"
   ]
  },
  {
   "cell_type": "markdown",
   "metadata": {},
   "source": [
    "**You can see that I'm not actually doing Kfold. I am skipping the first 4 folds and then just doing the last one so I am actually training on the first 80% of data and validating on the last 20%. I intended to do kfold and then realized it was too compute heavy and may possibly cause leakage.**"
   ]
  },
  {
   "cell_type": "code",
   "execution_count": 37,
   "metadata": {
    "execution": {
     "iopub.execute_input": "2021-07-24T00:51:35.878745Z",
     "iopub.status.busy": "2021-07-24T00:51:35.878310Z"
    }
   },
   "outputs": [
    {
     "name": "stdout",
     "output_type": "stream",
     "text": [
      "16172879 16172880\n",
      "[LightGBM] [Info] Number of positive: 14588424, number of negative: 1584456\n",
      "[LightGBM] [Warning] Auto-choosing row-wise multi-threading, the overhead of testing was 0.130312 seconds.\n",
      "You can set `force_row_wise=true` to remove the overhead.\n",
      "And if memory is not enough, you can set `force_col_wise=true`.\n",
      "[LightGBM] [Info] Total Bins 1161\n",
      "[LightGBM] [Info] Number of data points in the train set: 16172880, number of used features: 12\n",
      "[LightGBM] [Info] [binary:BoostFromScore]: pavg=0.902030 -> initscore=2.219987\n",
      "[LightGBM] [Info] Start training from score 2.219987\n",
      "Training until validation scores don't improve for 20 rounds\n",
      "[20]\ttraining's binary_logloss: 0.180013\tvalid_1's binary_logloss: 0.179619\n",
      "[40]\ttraining's binary_logloss: 0.156394\tvalid_1's binary_logloss: 0.17163\n",
      "[60]\ttraining's binary_logloss: 0.1448\tvalid_1's binary_logloss: 0.171614\n",
      "[80]\ttraining's binary_logloss: 0.136717\tvalid_1's binary_logloss: 0.173615\n",
      "Early stopping, best iteration is:\n",
      "[63]\ttraining's binary_logloss: 0.143641\tvalid_1's binary_logloss: 0.171215\n",
      "[LightGBM] [Warning] Auto-choosing row-wise multi-threading, the overhead of testing was 0.095652 seconds.\n",
      "You can set `force_row_wise=true` to remove the overhead.\n",
      "And if memory is not enough, you can set `force_col_wise=true`.\n",
      "[LightGBM] [Info] Total Bins 1158\n",
      "[LightGBM] [Info] Number of data points in the train set: 14588424, number of used features: 12\n",
      "[LightGBM] [Info] Start training from score 4.577567\n",
      "Training until validation scores don't improve for 20 rounds\n",
      "[20]\ttraining's rmse: 0.87711\tvalid_1's rmse: 0.910775\n",
      "[40]\ttraining's rmse: 0.766287\tvalid_1's rmse: 0.813662\n",
      "[60]\ttraining's rmse: 0.707338\tvalid_1's rmse: 0.782394\n",
      "[80]\ttraining's rmse: 0.66616\tvalid_1's rmse: 0.760613\n",
      "[100]\ttraining's rmse: 0.630834\tvalid_1's rmse: 0.742961\n",
      "[120]\ttraining's rmse: 0.608376\tvalid_1's rmse: 0.73285\n",
      "[140]\ttraining's rmse: 0.586215\tvalid_1's rmse: 0.725027\n",
      "[160]\ttraining's rmse: 0.570939\tvalid_1's rmse: 0.721419\n",
      "[180]\ttraining's rmse: 0.552375\tvalid_1's rmse: 0.710655\n",
      "[200]\ttraining's rmse: 0.541331\tvalid_1's rmse: 0.706272\n",
      "[220]\ttraining's rmse: 0.528404\tvalid_1's rmse: 0.700182\n",
      "[240]\ttraining's rmse: 0.518402\tvalid_1's rmse: 0.699303\n",
      "[260]\ttraining's rmse: 0.508583\tvalid_1's rmse: 0.694443\n",
      "[280]\ttraining's rmse: 0.502464\tvalid_1's rmse: 0.693308\n",
      "[300]\ttraining's rmse: 0.495581\tvalid_1's rmse: 0.68835\n",
      "[320]\ttraining's rmse: 0.490813\tvalid_1's rmse: 0.686356\n",
      "[340]\ttraining's rmse: 0.486273\tvalid_1's rmse: 0.687245\n",
      "Early stopping, best iteration is:\n",
      "[329]\ttraining's rmse: 0.488646\tvalid_1's rmse: 0.685545\n",
      "1.2943116836473432\n",
      "0.2588623367294686\n"
     ]
    }
   ],
   "source": [
    "num_folds = 5\n",
    "kf = KFold(n_splits = num_folds, shuffle = False, random_state = 42)\n",
    "error = 0\n",
    "models = []\n",
    "for i, (train_index, val_index) in enumerate(kf.split(train_df)):\n",
    "    if i + 1 < num_folds:\n",
    "        continue\n",
    "    print(train_index.max(), val_index.min())\n",
    "    \n",
    "    #Splitting The DF Into Train Test Split\n",
    "    train_X = train_df[feat_cols].iloc[train_index]\n",
    "    val_X = train_df[feat_cols].iloc[val_index]\n",
    "    train_y = target.iloc[train_index]\n",
    "    val_y = target.iloc[val_index]\n",
    "    \n",
    "    #Training The Model\n",
    "    lgb_train = lgb.Dataset(train_X, train_y > 0)\n",
    "    lgb_eval = lgb.Dataset(val_X, val_y > 0)\n",
    "    params = {\n",
    "            'boosting_type': 'gbdt',\n",
    "            'objective': 'binary',\n",
    "            'metric': {'binary_logloss'},\n",
    "            'learning_rate': 0.1,\n",
    "            'feature_fraction': 0.8,\n",
    "            'bagging_fraction': 0.8,\n",
    "            'bagging_freq' : 5\n",
    "            }\n",
    "    gbm_class = lgb.train(params,\n",
    "                lgb_train,\n",
    "                num_boost_round=2000,\n",
    "                valid_sets=(lgb_train, lgb_eval),\n",
    "               early_stopping_rounds=20,\n",
    "               verbose_eval = 20)\n",
    "    \n",
    "    #we did this so that we only consider positive vals and no dta leakage would be there\n",
    "    lgb_train = lgb.Dataset(train_X[train_y > 0], train_y[train_y > 0]) \n",
    "    lgb_eval = lgb.Dataset(val_X[val_y > 0] , val_y[val_y > 0])\n",
    "    params = {\n",
    "            'boosting_type': 'gbdt',\n",
    "            'objective': 'regression',\n",
    "            'metric': {'rmse'},\n",
    "            'learning_rate': 0.5,\n",
    "            'feature_fraction': 0.8,\n",
    "            'bagging_fraction': 0.8,\n",
    "            'bagging_freq' : 5\n",
    "            }\n",
    "    gbm_regress = lgb.train(params,\n",
    "                lgb_train,\n",
    "                num_boost_round=2000,\n",
    "                valid_sets=(lgb_train, lgb_eval),\n",
    "               early_stopping_rounds=20,\n",
    "               verbose_eval = 20)\n",
    "#     models.append(gbm)\n",
    "\n",
    "    y_pred = (gbm_class.predict(val_X, num_iteration=gbm_class.best_iteration) > .5) *\\\n",
    "    (gbm_regress.predict(val_X, num_iteration=gbm_regress.best_iteration))\n",
    "    error += np.sqrt(mean_squared_error(y_pred, (val_y)))/num_folds\n",
    "    print(np.sqrt(mean_squared_error(y_pred, (val_y))))\n",
    "    break\n",
    "print(error)"
   ]
  },
  {
   "cell_type": "code",
   "execution_count": 38,
   "metadata": {},
   "outputs": [
    {
     "data": {
      "text/plain": [
       "[(2404, 'building_id'),\n",
       " (2157, 'square_feet'),\n",
       " (1057, 'meter'),\n",
       " (851, 'year_built'),\n",
       " (790, 'primary_use'),\n",
       " (698, 'month'),\n",
       " (668, 'hour'),\n",
       " (545, 'air_temperature'),\n",
       " (323, 'dew_temperature'),\n",
       " (195, 'weekend'),\n",
       " (150, 'day'),\n",
       " (32, 'cloud_coverage')]"
      ]
     },
     "execution_count": 38,
     "metadata": {},
     "output_type": "execute_result"
    }
   ],
   "source": [
    "sorted(zip(gbm_regress.feature_importance(), gbm_regress.feature_name()),reverse = True)"
   ]
  },
  {
   "cell_type": "code",
   "execution_count": 39,
   "metadata": {},
   "outputs": [
    {
     "data": {
      "text/plain": [
       "195"
      ]
     },
     "execution_count": 39,
     "metadata": {},
     "output_type": "execute_result"
    }
   ],
   "source": [
    "del train_df\n",
    "gc.collect()"
   ]
  },
  {
   "cell_type": "markdown",
   "metadata": {},
   "source": [
    "# Modifying For Submissions"
   ]
  },
  {
   "cell_type": "markdown",
   "metadata": {},
   "source": [
    "*tqdm: Is Used For Displaying Horizontal Animated Bar*\n",
    "\n",
    "*\\ : Is For Regular Expression"
   ]
  },
  {
   "cell_type": "code",
   "execution_count": 40,
   "metadata": {},
   "outputs": [
    {
     "name": "stderr",
     "output_type": "stream",
     "text": [
      "100%|██████████| 834/834 [02:08<00:00,  6.49it/s]\n"
     ]
    }
   ],
   "source": [
    "from tqdm import tqdm\n",
    "i=0\n",
    "res=[]\n",
    "step_size = 50000\n",
    "for j in tqdm(range(int(np.ceil(test_df.shape[0]/50000)))):\n",
    "    \n",
    "    res.append(np.expm1\n",
    "               (\n",
    "                   (gbm_class.predict\n",
    "                    (test_df.iloc[i:i+step_size], num_iteration=gbm_class.best_iteration) > .5) *\\\n",
    "                       (gbm_regress.predict(test_df.iloc[i:i+step_size], num_iteration=gbm_regress.best_iteration))\n",
    "               )\n",
    "              )\n",
    "    i+=step_size"
   ]
  },
  {
   "cell_type": "code",
   "execution_count": 41,
   "metadata": {},
   "outputs": [],
   "source": [
    "del test_df"
   ]
  },
  {
   "cell_type": "code",
   "execution_count": 42,
   "metadata": {},
   "outputs": [
    {
     "data": {
      "text/html": [
       "<div>\n",
       "<style scoped>\n",
       "    .dataframe tbody tr th:only-of-type {\n",
       "        vertical-align: middle;\n",
       "    }\n",
       "\n",
       "    .dataframe tbody tr th {\n",
       "        vertical-align: top;\n",
       "    }\n",
       "\n",
       "    .dataframe thead th {\n",
       "        text-align: right;\n",
       "    }\n",
       "</style>\n",
       "<table border=\"1\" class=\"dataframe\">\n",
       "  <thead>\n",
       "    <tr style=\"text-align: right;\">\n",
       "      <th></th>\n",
       "      <th>0</th>\n",
       "    </tr>\n",
       "  </thead>\n",
       "  <tbody>\n",
       "    <tr>\n",
       "      <th>count</th>\n",
       "      <td>4.169760e+07</td>\n",
       "    </tr>\n",
       "    <tr>\n",
       "      <th>mean</th>\n",
       "      <td>3.127130e+02</td>\n",
       "    </tr>\n",
       "    <tr>\n",
       "      <th>std</th>\n",
       "      <td>1.971325e+03</td>\n",
       "    </tr>\n",
       "    <tr>\n",
       "      <th>min</th>\n",
       "      <td>-8.630281e-01</td>\n",
       "    </tr>\n",
       "    <tr>\n",
       "      <th>25%</th>\n",
       "      <td>1.711868e+01</td>\n",
       "    </tr>\n",
       "    <tr>\n",
       "      <th>50%</th>\n",
       "      <td>7.833743e+01</td>\n",
       "    </tr>\n",
       "    <tr>\n",
       "      <th>75%</th>\n",
       "      <td>2.534396e+02</td>\n",
       "    </tr>\n",
       "    <tr>\n",
       "      <th>max</th>\n",
       "      <td>2.501862e+05</td>\n",
       "    </tr>\n",
       "  </tbody>\n",
       "</table>\n",
       "</div>"
      ],
      "text/plain": [
       "                  0\n",
       "count  4.169760e+07\n",
       "mean   3.127130e+02\n",
       "std    1.971325e+03\n",
       "min   -8.630281e-01\n",
       "25%    1.711868e+01\n",
       "50%    7.833743e+01\n",
       "75%    2.534396e+02\n",
       "max    2.501862e+05"
      ]
     },
     "execution_count": 42,
     "metadata": {},
     "output_type": "execute_result"
    }
   ],
   "source": [
    "res = np.concatenate(res)\n",
    "pd.DataFrame(res).describe()"
   ]
  },
  {
   "cell_type": "code",
   "execution_count": 43,
   "metadata": {},
   "outputs": [
    {
     "name": "stdout",
     "output_type": "stream",
     "text": [
      "[  0.           0.           0.         ...   7.74453153 139.13351683\n",
      "  20.30705139]\n"
     ]
    }
   ],
   "source": [
    "print(res)"
   ]
  },
  {
   "cell_type": "code",
   "execution_count": 44,
   "metadata": {},
   "outputs": [
    {
     "data": {
      "text/plain": [
       "(41697600,)"
      ]
     },
     "execution_count": 44,
     "metadata": {},
     "output_type": "execute_result"
    }
   ],
   "source": [
    "res.shape"
   ]
  },
  {
   "cell_type": "code",
   "execution_count": 45,
   "metadata": {},
   "outputs": [],
   "source": [
    "sub = pd.read_csv(\"energyCSV/sample_submission.csv\")"
   ]
  },
  {
   "cell_type": "code",
   "execution_count": 46,
   "metadata": {},
   "outputs": [],
   "source": [
    "sub[\"meter_reading\"] = res"
   ]
  },
  {
   "cell_type": "code",
   "execution_count": 47,
   "metadata": {},
   "outputs": [
    {
     "data": {
      "text/plain": [
       "235"
      ]
     },
     "execution_count": 47,
     "metadata": {},
     "output_type": "execute_result"
    }
   ],
   "source": [
    "gc.collect()"
   ]
  },
  {
   "cell_type": "code",
   "execution_count": 48,
   "metadata": {},
   "outputs": [],
   "source": [
    "#os.remove(\"./train_df.pkl\")\n",
    "#os.remove(\"./test_df.pkl\")"
   ]
  },
  {
   "cell_type": "code",
   "execution_count": 49,
   "metadata": {},
   "outputs": [
    {
     "data": {
      "text/html": [
       "<div>\n",
       "<style scoped>\n",
       "    .dataframe tbody tr th:only-of-type {\n",
       "        vertical-align: middle;\n",
       "    }\n",
       "\n",
       "    .dataframe tbody tr th {\n",
       "        vertical-align: top;\n",
       "    }\n",
       "\n",
       "    .dataframe thead th {\n",
       "        text-align: right;\n",
       "    }\n",
       "</style>\n",
       "<table border=\"1\" class=\"dataframe\">\n",
       "  <thead>\n",
       "    <tr style=\"text-align: right;\">\n",
       "      <th></th>\n",
       "      <th>row_id</th>\n",
       "      <th>meter_reading</th>\n",
       "    </tr>\n",
       "  </thead>\n",
       "  <tbody>\n",
       "    <tr>\n",
       "      <th>0</th>\n",
       "      <td>0</td>\n",
       "      <td>0.000000</td>\n",
       "    </tr>\n",
       "    <tr>\n",
       "      <th>1</th>\n",
       "      <td>1</td>\n",
       "      <td>0.000000</td>\n",
       "    </tr>\n",
       "    <tr>\n",
       "      <th>2</th>\n",
       "      <td>2</td>\n",
       "      <td>0.000000</td>\n",
       "    </tr>\n",
       "    <tr>\n",
       "      <th>3</th>\n",
       "      <td>3</td>\n",
       "      <td>0.000000</td>\n",
       "    </tr>\n",
       "    <tr>\n",
       "      <th>4</th>\n",
       "      <td>4</td>\n",
       "      <td>0.000000</td>\n",
       "    </tr>\n",
       "    <tr>\n",
       "      <th>...</th>\n",
       "      <td>...</td>\n",
       "      <td>...</td>\n",
       "    </tr>\n",
       "    <tr>\n",
       "      <th>41697595</th>\n",
       "      <td>41697595</td>\n",
       "      <td>19.091084</td>\n",
       "    </tr>\n",
       "    <tr>\n",
       "      <th>41697596</th>\n",
       "      <td>41697596</td>\n",
       "      <td>3.053052</td>\n",
       "    </tr>\n",
       "    <tr>\n",
       "      <th>41697597</th>\n",
       "      <td>41697597</td>\n",
       "      <td>7.744532</td>\n",
       "    </tr>\n",
       "    <tr>\n",
       "      <th>41697598</th>\n",
       "      <td>41697598</td>\n",
       "      <td>139.133517</td>\n",
       "    </tr>\n",
       "    <tr>\n",
       "      <th>41697599</th>\n",
       "      <td>41697599</td>\n",
       "      <td>20.307051</td>\n",
       "    </tr>\n",
       "  </tbody>\n",
       "</table>\n",
       "<p>41697600 rows × 2 columns</p>\n",
       "</div>"
      ],
      "text/plain": [
       "            row_id  meter_reading\n",
       "0                0       0.000000\n",
       "1                1       0.000000\n",
       "2                2       0.000000\n",
       "3                3       0.000000\n",
       "4                4       0.000000\n",
       "...            ...            ...\n",
       "41697595  41697595      19.091084\n",
       "41697596  41697596       3.053052\n",
       "41697597  41697597       7.744532\n",
       "41697598  41697598     139.133517\n",
       "41697599  41697599      20.307051\n",
       "\n",
       "[41697600 rows x 2 columns]"
      ]
     },
     "execution_count": 49,
     "metadata": {},
     "output_type": "execute_result"
    }
   ],
   "source": [
    "sub"
   ]
  },
  {
   "cell_type": "code",
   "execution_count": 50,
   "metadata": {},
   "outputs": [],
   "source": [
    "#sub.to_csv(\"ignoreThese/submission.csv\", index = False)"
   ]
  }
 ],
 "metadata": {
  "kernelspec": {
   "display_name": "Python 3",
   "language": "python",
   "name": "python3"
  },
  "language_info": {
   "codemirror_mode": {
    "name": "ipython",
    "version": 3
   },
   "file_extension": ".py",
   "mimetype": "text/x-python",
   "name": "python",
   "nbconvert_exporter": "python",
   "pygments_lexer": "ipython3",
   "version": "3.8.5"
  }
 },
 "nbformat": 4,
 "nbformat_minor": 4
}
